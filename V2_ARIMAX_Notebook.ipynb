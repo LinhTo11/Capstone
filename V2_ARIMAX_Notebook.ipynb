{
  "nbformat": 4,
  "nbformat_minor": 0,
  "metadata": {
    "colab": {
      "name": "V2 ARIMAX Notebook.ipynb",
      "provenance": []
    },
    "kernelspec": {
      "name": "python3",
      "display_name": "Python 3"
    },
    "language_info": {
      "name": "python"
    }
  },
  "cells": [
    {
      "cell_type": "code",
      "execution_count": null,
      "metadata": {
        "id": "HfQ3X7CHV3SM",
        "colab": {
          "base_uri": "https://localhost:8080/"
        },
        "outputId": "9957c484-74c8-478c-c59e-8ccca5753134"
      },
      "outputs": [
        {
          "output_type": "stream",
          "name": "stderr",
          "text": [
            "/usr/local/lib/python3.7/dist-packages/statsmodels/tools/_testing.py:19: FutureWarning: pandas.util.testing is deprecated. Use the functions in the public API at pandas.testing instead.\n",
            "  import pandas.util.testing as tm\n"
          ]
        }
      ],
      "source": [
        "import pandas as pd\n",
        "import numpy as np\n",
        "import matplotlib.pyplot as plt\n",
        "import seaborn as sns\n",
        "from statsmodels.tsa.stattools import adfuller,acf, pacf\n",
        "from statsmodels.tsa.arima_model import ARIMA\n",
        "import statsmodels.api as sm\n",
        "from pylab import rcParams"
      ]
    },
    {
      "cell_type": "code",
      "source": [
        "# importing libraries\n",
        "import math\n",
        "from statsmodels.tsa.stattools import adfuller\n",
        "from statsmodels.tsa.seasonal import seasonal_decompose\n",
        "from statsmodels.tsa.stattools import acf, pacf\n",
        "from sklearn.metrics import mean_squared_error\n",
        "from sklearn.preprocessing import *\n",
        "from sklearn.linear_model import LinearRegression\n",
        "from sklearn.ensemble import RandomForestRegressor\n",
        "from sklearn.svm import SVR\n",
        "#from statsmodels.tsa.ar_model import AutoReg\n",
        "from statsmodels.tsa.statespace.sarimax import SARIMAX\n",
        "from statsmodels.tsa.arima_model import ARIMA\n",
        "import warnings\n",
        "warnings.filterwarnings(\"ignore\")"
      ],
      "metadata": {
        "id": "240vXDAJNcQP"
      },
      "execution_count": null,
      "outputs": []
    },
    {
      "cell_type": "code",
      "source": [
        "from google.colab import drive\n",
        "drive.mount('/content/drive')"
      ],
      "metadata": {
        "colab": {
          "base_uri": "https://localhost:8080/"
        },
        "id": "HAzBE-f1XiIZ",
        "outputId": "594d4200-cbb7-4e5c-dd0a-03cd5d4ce83f"
      },
      "execution_count": null,
      "outputs": [
        {
          "output_type": "stream",
          "name": "stdout",
          "text": [
            "Drive already mounted at /content/drive; to attempt to forcibly remount, call drive.mount(\"/content/drive\", force_remount=True).\n"
          ]
        }
      ]
    },
    {
      "cell_type": "code",
      "source": [
        "etf=pd.read_csv('/content/drive/Shareddrives/Capstone B1/Spinnaker Data/US Sector Inst ETF.csv')\n",
        "institutional=pd.read_csv('/content/drive/Shareddrives/Capstone B1/Spinnaker Data/US Sector Institutional MF.csv') \n",
        "retail=pd.read_csv('/content/drive/Shareddrives/Capstone B1/Spinnaker Data/US Sector Retail MF.csv')"
      ],
      "metadata": {
        "id": "T03UWzCIV8Yc"
      },
      "execution_count": null,
      "outputs": []
    },
    {
      "cell_type": "code",
      "source": [
        "missingAsset = 'Infrastructure-North America-USA-North America-Equity'\n",
        "\n",
        "etf.drop(etf[etf['AssetClass'] == missingAsset].index, inplace=True)\n",
        "institutional.drop(institutional[institutional['AssetClass'] == missingAsset].index, inplace=True)\n",
        "retail.drop(retail[retail['AssetClass'] == missingAsset].index, inplace=True)"
      ],
      "metadata": {
        "id": "7cnzVDvACnFG"
      },
      "execution_count": null,
      "outputs": []
    },
    {
      "cell_type": "code",
      "source": [
        "# ARIMAX Model\n",
        "\n",
        "# define a function for preprocessing dataset\n",
        "def preprocessing(df): \n",
        "  # trim AssetClass names\n",
        "  df['AssetClass'] = df['AssetClass'].str.replace('-North America-USA-North America-Equity', '')\n",
        "\n",
        "  # convert ReportDate to datetime \n",
        "  df['ReportDate'] = pd.to_datetime(df[\"ReportDate\"])\n",
        "  \n",
        "  # extract year\n",
        "  df['year'] = df['ReportDate'].dt.year\n",
        "\n",
        "  # set ReportDate as index\n",
        "  df.sort_values(\"ReportDate\", inplace=True)\n",
        "  df.set_index('ReportDate', inplace=True)\n",
        "  return df"
      ],
      "metadata": {
        "id": "6SoW4ep4F72P"
      },
      "execution_count": null,
      "outputs": []
    },
    {
      "cell_type": "code",
      "source": [
        "etf = preprocessing(etf)\n",
        "grouped = etf.groupby(etf['AssetClass'])\n",
        "\n",
        "com_model1 = grouped.get_group('Commodities/Materials')\n",
        "con_model1 = grouped.get_group('Consumer Goods')\n",
        "ene_model1 = grouped.get_group('Energy')\n",
        "fin_model1 = grouped.get_group('Financials')\n",
        "hea_model1 = grouped.get_group('Health Care/Biotech')\n",
        "ind_model1 = grouped.get_group('Industrials')\n",
        "lcb_model1 = grouped.get_group('Large Cap Blend')\n",
        "lcg_model1 = grouped.get_group('Large Cap Growth')\n",
        "lcv_model1 = grouped.get_group('Large Cap Value')\n",
        "mcb_model1 = grouped.get_group('Mid Cap Blend')\n",
        "mcg_model1 = grouped.get_group('Mid Cap Growth')\n",
        "mcv_model1 = grouped.get_group('Mid Cap Value')\n",
        "rea_model1 = grouped.get_group('Real Estate')\n",
        "scb_model1 = grouped.get_group('Small Cap Blend')\n",
        "scg_model1 = grouped.get_group('Small Cap Growth')\n",
        "scv_model1 = grouped.get_group('Small Cap Value')\n",
        "tec_model1 = grouped.get_group('Technology')\n",
        "tel_model1 = grouped.get_group('Telecom')\n",
        "uti_model1 = grouped.get_group('Utilities')"
      ],
      "metadata": {
        "id": "kiJ8SeBX52ze"
      },
      "execution_count": null,
      "outputs": []
    },
    {
      "cell_type": "code",
      "source": [
        "tec_model1"
      ],
      "metadata": {
        "id": "oNrD449o52k2",
        "colab": {
          "base_uri": "https://localhost:8080/",
          "height": 450
        },
        "outputId": "2ec54d2f-7a27-4333-b1e5-2e28154efcce"
      },
      "execution_count": null,
      "outputs": [
        {
          "output_type": "execute_result",
          "data": {
            "text/plain": [
              "            AssetClass        Flow  FlowPct     AssetsEnd  PortfolioChangePct  \\\n",
              "ReportDate                                                                      \n",
              "2006-01-04  Technology    7.951177   0.5318   1533.259850              2.0328   \n",
              "2006-01-11  Technology   27.349755   1.7837   1641.107581              5.2501   \n",
              "2006-01-18  Technology   45.189108   2.7535   1636.459468             -3.0368   \n",
              "2006-01-25  Technology  -63.234264  -3.8640   1554.378023             -1.1516   \n",
              "2006-02-01  Technology  -13.639647  -0.8774   1576.825113              2.3216   \n",
              "...                ...         ...      ...           ...                 ...   \n",
              "2017-01-04  Technology  102.862047   0.2704  38338.186347              0.5422   \n",
              "2017-01-11  Technology  441.392293   1.1511  39472.923445              1.7914   \n",
              "2017-01-18  Technology -212.668578  -0.5387  39226.390114             -0.0887   \n",
              "2017-01-25  Technology  764.591726   1.9491  40972.934296              2.5034   \n",
              "2017-02-01  Technology  100.624716   0.2455  40838.901867             -0.5732   \n",
              "\n",
              "            year  \n",
              "ReportDate        \n",
              "2006-01-04  2006  \n",
              "2006-01-11  2006  \n",
              "2006-01-18  2006  \n",
              "2006-01-25  2006  \n",
              "2006-02-01  2006  \n",
              "...          ...  \n",
              "2017-01-04  2017  \n",
              "2017-01-11  2017  \n",
              "2017-01-18  2017  \n",
              "2017-01-25  2017  \n",
              "2017-02-01  2017  \n",
              "\n",
              "[579 rows x 6 columns]"
            ],
            "text/html": [
              "\n",
              "  <div id=\"df-789ca1c2-b11b-404b-8907-1fcb0960f59a\">\n",
              "    <div class=\"colab-df-container\">\n",
              "      <div>\n",
              "<style scoped>\n",
              "    .dataframe tbody tr th:only-of-type {\n",
              "        vertical-align: middle;\n",
              "    }\n",
              "\n",
              "    .dataframe tbody tr th {\n",
              "        vertical-align: top;\n",
              "    }\n",
              "\n",
              "    .dataframe thead th {\n",
              "        text-align: right;\n",
              "    }\n",
              "</style>\n",
              "<table border=\"1\" class=\"dataframe\">\n",
              "  <thead>\n",
              "    <tr style=\"text-align: right;\">\n",
              "      <th></th>\n",
              "      <th>AssetClass</th>\n",
              "      <th>Flow</th>\n",
              "      <th>FlowPct</th>\n",
              "      <th>AssetsEnd</th>\n",
              "      <th>PortfolioChangePct</th>\n",
              "      <th>year</th>\n",
              "    </tr>\n",
              "    <tr>\n",
              "      <th>ReportDate</th>\n",
              "      <th></th>\n",
              "      <th></th>\n",
              "      <th></th>\n",
              "      <th></th>\n",
              "      <th></th>\n",
              "      <th></th>\n",
              "    </tr>\n",
              "  </thead>\n",
              "  <tbody>\n",
              "    <tr>\n",
              "      <th>2006-01-04</th>\n",
              "      <td>Technology</td>\n",
              "      <td>7.951177</td>\n",
              "      <td>0.5318</td>\n",
              "      <td>1533.259850</td>\n",
              "      <td>2.0328</td>\n",
              "      <td>2006</td>\n",
              "    </tr>\n",
              "    <tr>\n",
              "      <th>2006-01-11</th>\n",
              "      <td>Technology</td>\n",
              "      <td>27.349755</td>\n",
              "      <td>1.7837</td>\n",
              "      <td>1641.107581</td>\n",
              "      <td>5.2501</td>\n",
              "      <td>2006</td>\n",
              "    </tr>\n",
              "    <tr>\n",
              "      <th>2006-01-18</th>\n",
              "      <td>Technology</td>\n",
              "      <td>45.189108</td>\n",
              "      <td>2.7535</td>\n",
              "      <td>1636.459468</td>\n",
              "      <td>-3.0368</td>\n",
              "      <td>2006</td>\n",
              "    </tr>\n",
              "    <tr>\n",
              "      <th>2006-01-25</th>\n",
              "      <td>Technology</td>\n",
              "      <td>-63.234264</td>\n",
              "      <td>-3.8640</td>\n",
              "      <td>1554.378023</td>\n",
              "      <td>-1.1516</td>\n",
              "      <td>2006</td>\n",
              "    </tr>\n",
              "    <tr>\n",
              "      <th>2006-02-01</th>\n",
              "      <td>Technology</td>\n",
              "      <td>-13.639647</td>\n",
              "      <td>-0.8774</td>\n",
              "      <td>1576.825113</td>\n",
              "      <td>2.3216</td>\n",
              "      <td>2006</td>\n",
              "    </tr>\n",
              "    <tr>\n",
              "      <th>...</th>\n",
              "      <td>...</td>\n",
              "      <td>...</td>\n",
              "      <td>...</td>\n",
              "      <td>...</td>\n",
              "      <td>...</td>\n",
              "      <td>...</td>\n",
              "    </tr>\n",
              "    <tr>\n",
              "      <th>2017-01-04</th>\n",
              "      <td>Technology</td>\n",
              "      <td>102.862047</td>\n",
              "      <td>0.2704</td>\n",
              "      <td>38338.186347</td>\n",
              "      <td>0.5422</td>\n",
              "      <td>2017</td>\n",
              "    </tr>\n",
              "    <tr>\n",
              "      <th>2017-01-11</th>\n",
              "      <td>Technology</td>\n",
              "      <td>441.392293</td>\n",
              "      <td>1.1511</td>\n",
              "      <td>39472.923445</td>\n",
              "      <td>1.7914</td>\n",
              "      <td>2017</td>\n",
              "    </tr>\n",
              "    <tr>\n",
              "      <th>2017-01-18</th>\n",
              "      <td>Technology</td>\n",
              "      <td>-212.668578</td>\n",
              "      <td>-0.5387</td>\n",
              "      <td>39226.390114</td>\n",
              "      <td>-0.0887</td>\n",
              "      <td>2017</td>\n",
              "    </tr>\n",
              "    <tr>\n",
              "      <th>2017-01-25</th>\n",
              "      <td>Technology</td>\n",
              "      <td>764.591726</td>\n",
              "      <td>1.9491</td>\n",
              "      <td>40972.934296</td>\n",
              "      <td>2.5034</td>\n",
              "      <td>2017</td>\n",
              "    </tr>\n",
              "    <tr>\n",
              "      <th>2017-02-01</th>\n",
              "      <td>Technology</td>\n",
              "      <td>100.624716</td>\n",
              "      <td>0.2455</td>\n",
              "      <td>40838.901867</td>\n",
              "      <td>-0.5732</td>\n",
              "      <td>2017</td>\n",
              "    </tr>\n",
              "  </tbody>\n",
              "</table>\n",
              "<p>579 rows × 6 columns</p>\n",
              "</div>\n",
              "      <button class=\"colab-df-convert\" onclick=\"convertToInteractive('df-789ca1c2-b11b-404b-8907-1fcb0960f59a')\"\n",
              "              title=\"Convert this dataframe to an interactive table.\"\n",
              "              style=\"display:none;\">\n",
              "        \n",
              "  <svg xmlns=\"http://www.w3.org/2000/svg\" height=\"24px\"viewBox=\"0 0 24 24\"\n",
              "       width=\"24px\">\n",
              "    <path d=\"M0 0h24v24H0V0z\" fill=\"none\"/>\n",
              "    <path d=\"M18.56 5.44l.94 2.06.94-2.06 2.06-.94-2.06-.94-.94-2.06-.94 2.06-2.06.94zm-11 1L8.5 8.5l.94-2.06 2.06-.94-2.06-.94L8.5 2.5l-.94 2.06-2.06.94zm10 10l.94 2.06.94-2.06 2.06-.94-2.06-.94-.94-2.06-.94 2.06-2.06.94z\"/><path d=\"M17.41 7.96l-1.37-1.37c-.4-.4-.92-.59-1.43-.59-.52 0-1.04.2-1.43.59L10.3 9.45l-7.72 7.72c-.78.78-.78 2.05 0 2.83L4 21.41c.39.39.9.59 1.41.59.51 0 1.02-.2 1.41-.59l7.78-7.78 2.81-2.81c.8-.78.8-2.07 0-2.86zM5.41 20L4 18.59l7.72-7.72 1.47 1.35L5.41 20z\"/>\n",
              "  </svg>\n",
              "      </button>\n",
              "      \n",
              "  <style>\n",
              "    .colab-df-container {\n",
              "      display:flex;\n",
              "      flex-wrap:wrap;\n",
              "      gap: 12px;\n",
              "    }\n",
              "\n",
              "    .colab-df-convert {\n",
              "      background-color: #E8F0FE;\n",
              "      border: none;\n",
              "      border-radius: 50%;\n",
              "      cursor: pointer;\n",
              "      display: none;\n",
              "      fill: #1967D2;\n",
              "      height: 32px;\n",
              "      padding: 0 0 0 0;\n",
              "      width: 32px;\n",
              "    }\n",
              "\n",
              "    .colab-df-convert:hover {\n",
              "      background-color: #E2EBFA;\n",
              "      box-shadow: 0px 1px 2px rgba(60, 64, 67, 0.3), 0px 1px 3px 1px rgba(60, 64, 67, 0.15);\n",
              "      fill: #174EA6;\n",
              "    }\n",
              "\n",
              "    [theme=dark] .colab-df-convert {\n",
              "      background-color: #3B4455;\n",
              "      fill: #D2E3FC;\n",
              "    }\n",
              "\n",
              "    [theme=dark] .colab-df-convert:hover {\n",
              "      background-color: #434B5C;\n",
              "      box-shadow: 0px 1px 3px 1px rgba(0, 0, 0, 0.15);\n",
              "      filter: drop-shadow(0px 1px 2px rgba(0, 0, 0, 0.3));\n",
              "      fill: #FFFFFF;\n",
              "    }\n",
              "  </style>\n",
              "\n",
              "      <script>\n",
              "        const buttonEl =\n",
              "          document.querySelector('#df-789ca1c2-b11b-404b-8907-1fcb0960f59a button.colab-df-convert');\n",
              "        buttonEl.style.display =\n",
              "          google.colab.kernel.accessAllowed ? 'block' : 'none';\n",
              "\n",
              "        async function convertToInteractive(key) {\n",
              "          const element = document.querySelector('#df-789ca1c2-b11b-404b-8907-1fcb0960f59a');\n",
              "          const dataTable =\n",
              "            await google.colab.kernel.invokeFunction('convertToInteractive',\n",
              "                                                     [key], {});\n",
              "          if (!dataTable) return;\n",
              "\n",
              "          const docLinkHtml = 'Like what you see? Visit the ' +\n",
              "            '<a target=\"_blank\" href=https://colab.research.google.com/notebooks/data_table.ipynb>data table notebook</a>'\n",
              "            + ' to learn more about interactive tables.';\n",
              "          element.innerHTML = '';\n",
              "          dataTable['output_type'] = 'display_data';\n",
              "          await google.colab.output.renderOutput(dataTable, element);\n",
              "          const docLink = document.createElement('div');\n",
              "          docLink.innerHTML = docLinkHtml;\n",
              "          element.appendChild(docLink);\n",
              "        }\n",
              "      </script>\n",
              "    </div>\n",
              "  </div>\n",
              "  "
            ]
          },
          "metadata": {},
          "execution_count": 8
        }
      ]
    },
    {
      "cell_type": "code",
      "source": [
        "# Test for Stationarity\n",
        "#Ho: It is non stationary\n",
        "#H1: It is stationary\n",
        "\n",
        "def adfuller_test(sales):\n",
        "    result=adfuller(sales)\n",
        "    labels = ['ADF Test Statistic','p-value','#Lags Used','Number of Observations Used']\n",
        "    for value,label in zip(result,labels):\n",
        "        print(label+' : '+str(value) )\n",
        "    if result[1] <= 0.05:\n",
        "        print(\"strong evidence against the null hypothesis(Ho), reject the null hypothesis. Data has no unit root and is stationary\")\n",
        "    else:\n",
        "        print(\"weak evidence against null hypothesis, time series has a unit root, indicating it is non-stationary \")"
      ],
      "metadata": {
        "id": "StRNBCgcMM0E"
      },
      "execution_count": null,
      "outputs": []
    },
    {
      "cell_type": "code",
      "source": [
        "DF = tec_model1.copy()"
      ],
      "metadata": {
        "id": "7oQRejXYT7Wn"
      },
      "execution_count": null,
      "outputs": []
    },
    {
      "cell_type": "code",
      "source": [
        "DF['M16'] = DF['AssetsEnd'].rolling(16).mean()\n",
        "DF['M50'] = DF['AssetsEnd'].rolling(50).mean()\n",
        "\n",
        "DF['M16'] = DF['M16'].fillna(method=\"bfill\")\n",
        "DF['M50'] = DF['M50'].fillna(method=\"bfill\")\n",
        "\n",
        "DF['Buy'] = np.where(DF['M16']>DF['M50'],1.0,0.0)\n",
        "DF['Short'] = np.where(DF['M16']<DF['M50'],1.0,0.0)    \n",
        "    \n",
        "#DF['roi'] = (DF['AssetsEnd'] - DF['AssetsEnd'][0])/DF['AssetsEnd'][0]\n",
        "#DF['percent_change'] = (DF['AssetsEnd'] - DF['AssetsEnd'].shift(1))/DF['AssetsEnd'].shift(1)\n",
        "#DF['percent_change'] = DF['percent_change'].fillna(0)"
      ],
      "metadata": {
        "id": "KHqyu8YbTlmD"
      },
      "execution_count": null,
      "outputs": []
    },
    {
      "cell_type": "code",
      "source": [
        "DF.drop(['AssetClass','year'],axis=1,inplace=True)"
      ],
      "metadata": {
        "id": "V7xyHCKKUr0t"
      },
      "execution_count": null,
      "outputs": []
    },
    {
      "cell_type": "code",
      "source": [
        "DF"
      ],
      "metadata": {
        "colab": {
          "base_uri": "https://localhost:8080/",
          "height": 450
        },
        "id": "CdGGWqYVZ0iT",
        "outputId": "aae82825-d955-424b-ec2b-706bed1beef6"
      },
      "execution_count": null,
      "outputs": [
        {
          "output_type": "execute_result",
          "data": {
            "text/plain": [
              "                  Flow  FlowPct     AssetsEnd  PortfolioChangePct  \\\n",
              "ReportDate                                                          \n",
              "2006-01-04    7.951177   0.5318   1533.259850              2.0328   \n",
              "2006-01-11   27.349755   1.7837   1641.107581              5.2501   \n",
              "2006-01-18   45.189108   2.7535   1636.459468             -3.0368   \n",
              "2006-01-25  -63.234264  -3.8640   1554.378023             -1.1516   \n",
              "2006-02-01  -13.639647  -0.8774   1576.825113              2.3216   \n",
              "...                ...      ...           ...                 ...   \n",
              "2017-01-04  102.862047   0.2704  38338.186347              0.5422   \n",
              "2017-01-11  441.392293   1.1511  39472.923445              1.7914   \n",
              "2017-01-18 -212.668578  -0.5387  39226.390114             -0.0887   \n",
              "2017-01-25  764.591726   1.9491  40972.934296              2.5034   \n",
              "2017-02-01  100.624716   0.2455  40838.901867             -0.5732   \n",
              "\n",
              "                     M16           M50  Buy  Short  \n",
              "ReportDate                                          \n",
              "2006-01-04   2693.853797   3122.995051  0.0    1.0  \n",
              "2006-01-11   2693.853797   3122.995051  0.0    1.0  \n",
              "2006-01-18   2693.853797   3122.995051  0.0    1.0  \n",
              "2006-01-25   2693.853797   3122.995051  0.0    1.0  \n",
              "2006-02-01   2693.853797   3122.995051  0.0    1.0  \n",
              "...                  ...           ...  ...    ...  \n",
              "2017-01-04  36094.001050  32656.647016  1.0    0.0  \n",
              "2017-01-11  36405.509709  32863.184929  1.0    0.0  \n",
              "2017-01-18  36697.135525  33056.312406  1.0    0.0  \n",
              "2017-01-25  37068.070283  33331.330042  1.0    0.0  \n",
              "2017-02-01  37433.423495  33573.113043  1.0    0.0  \n",
              "\n",
              "[579 rows x 8 columns]"
            ],
            "text/html": [
              "\n",
              "  <div id=\"df-3e148788-0817-4285-92a0-a3d3f843d71c\">\n",
              "    <div class=\"colab-df-container\">\n",
              "      <div>\n",
              "<style scoped>\n",
              "    .dataframe tbody tr th:only-of-type {\n",
              "        vertical-align: middle;\n",
              "    }\n",
              "\n",
              "    .dataframe tbody tr th {\n",
              "        vertical-align: top;\n",
              "    }\n",
              "\n",
              "    .dataframe thead th {\n",
              "        text-align: right;\n",
              "    }\n",
              "</style>\n",
              "<table border=\"1\" class=\"dataframe\">\n",
              "  <thead>\n",
              "    <tr style=\"text-align: right;\">\n",
              "      <th></th>\n",
              "      <th>Flow</th>\n",
              "      <th>FlowPct</th>\n",
              "      <th>AssetsEnd</th>\n",
              "      <th>PortfolioChangePct</th>\n",
              "      <th>M16</th>\n",
              "      <th>M50</th>\n",
              "      <th>Buy</th>\n",
              "      <th>Short</th>\n",
              "    </tr>\n",
              "    <tr>\n",
              "      <th>ReportDate</th>\n",
              "      <th></th>\n",
              "      <th></th>\n",
              "      <th></th>\n",
              "      <th></th>\n",
              "      <th></th>\n",
              "      <th></th>\n",
              "      <th></th>\n",
              "      <th></th>\n",
              "    </tr>\n",
              "  </thead>\n",
              "  <tbody>\n",
              "    <tr>\n",
              "      <th>2006-01-04</th>\n",
              "      <td>7.951177</td>\n",
              "      <td>0.5318</td>\n",
              "      <td>1533.259850</td>\n",
              "      <td>2.0328</td>\n",
              "      <td>2693.853797</td>\n",
              "      <td>3122.995051</td>\n",
              "      <td>0.0</td>\n",
              "      <td>1.0</td>\n",
              "    </tr>\n",
              "    <tr>\n",
              "      <th>2006-01-11</th>\n",
              "      <td>27.349755</td>\n",
              "      <td>1.7837</td>\n",
              "      <td>1641.107581</td>\n",
              "      <td>5.2501</td>\n",
              "      <td>2693.853797</td>\n",
              "      <td>3122.995051</td>\n",
              "      <td>0.0</td>\n",
              "      <td>1.0</td>\n",
              "    </tr>\n",
              "    <tr>\n",
              "      <th>2006-01-18</th>\n",
              "      <td>45.189108</td>\n",
              "      <td>2.7535</td>\n",
              "      <td>1636.459468</td>\n",
              "      <td>-3.0368</td>\n",
              "      <td>2693.853797</td>\n",
              "      <td>3122.995051</td>\n",
              "      <td>0.0</td>\n",
              "      <td>1.0</td>\n",
              "    </tr>\n",
              "    <tr>\n",
              "      <th>2006-01-25</th>\n",
              "      <td>-63.234264</td>\n",
              "      <td>-3.8640</td>\n",
              "      <td>1554.378023</td>\n",
              "      <td>-1.1516</td>\n",
              "      <td>2693.853797</td>\n",
              "      <td>3122.995051</td>\n",
              "      <td>0.0</td>\n",
              "      <td>1.0</td>\n",
              "    </tr>\n",
              "    <tr>\n",
              "      <th>2006-02-01</th>\n",
              "      <td>-13.639647</td>\n",
              "      <td>-0.8774</td>\n",
              "      <td>1576.825113</td>\n",
              "      <td>2.3216</td>\n",
              "      <td>2693.853797</td>\n",
              "      <td>3122.995051</td>\n",
              "      <td>0.0</td>\n",
              "      <td>1.0</td>\n",
              "    </tr>\n",
              "    <tr>\n",
              "      <th>...</th>\n",
              "      <td>...</td>\n",
              "      <td>...</td>\n",
              "      <td>...</td>\n",
              "      <td>...</td>\n",
              "      <td>...</td>\n",
              "      <td>...</td>\n",
              "      <td>...</td>\n",
              "      <td>...</td>\n",
              "    </tr>\n",
              "    <tr>\n",
              "      <th>2017-01-04</th>\n",
              "      <td>102.862047</td>\n",
              "      <td>0.2704</td>\n",
              "      <td>38338.186347</td>\n",
              "      <td>0.5422</td>\n",
              "      <td>36094.001050</td>\n",
              "      <td>32656.647016</td>\n",
              "      <td>1.0</td>\n",
              "      <td>0.0</td>\n",
              "    </tr>\n",
              "    <tr>\n",
              "      <th>2017-01-11</th>\n",
              "      <td>441.392293</td>\n",
              "      <td>1.1511</td>\n",
              "      <td>39472.923445</td>\n",
              "      <td>1.7914</td>\n",
              "      <td>36405.509709</td>\n",
              "      <td>32863.184929</td>\n",
              "      <td>1.0</td>\n",
              "      <td>0.0</td>\n",
              "    </tr>\n",
              "    <tr>\n",
              "      <th>2017-01-18</th>\n",
              "      <td>-212.668578</td>\n",
              "      <td>-0.5387</td>\n",
              "      <td>39226.390114</td>\n",
              "      <td>-0.0887</td>\n",
              "      <td>36697.135525</td>\n",
              "      <td>33056.312406</td>\n",
              "      <td>1.0</td>\n",
              "      <td>0.0</td>\n",
              "    </tr>\n",
              "    <tr>\n",
              "      <th>2017-01-25</th>\n",
              "      <td>764.591726</td>\n",
              "      <td>1.9491</td>\n",
              "      <td>40972.934296</td>\n",
              "      <td>2.5034</td>\n",
              "      <td>37068.070283</td>\n",
              "      <td>33331.330042</td>\n",
              "      <td>1.0</td>\n",
              "      <td>0.0</td>\n",
              "    </tr>\n",
              "    <tr>\n",
              "      <th>2017-02-01</th>\n",
              "      <td>100.624716</td>\n",
              "      <td>0.2455</td>\n",
              "      <td>40838.901867</td>\n",
              "      <td>-0.5732</td>\n",
              "      <td>37433.423495</td>\n",
              "      <td>33573.113043</td>\n",
              "      <td>1.0</td>\n",
              "      <td>0.0</td>\n",
              "    </tr>\n",
              "  </tbody>\n",
              "</table>\n",
              "<p>579 rows × 8 columns</p>\n",
              "</div>\n",
              "      <button class=\"colab-df-convert\" onclick=\"convertToInteractive('df-3e148788-0817-4285-92a0-a3d3f843d71c')\"\n",
              "              title=\"Convert this dataframe to an interactive table.\"\n",
              "              style=\"display:none;\">\n",
              "        \n",
              "  <svg xmlns=\"http://www.w3.org/2000/svg\" height=\"24px\"viewBox=\"0 0 24 24\"\n",
              "       width=\"24px\">\n",
              "    <path d=\"M0 0h24v24H0V0z\" fill=\"none\"/>\n",
              "    <path d=\"M18.56 5.44l.94 2.06.94-2.06 2.06-.94-2.06-.94-.94-2.06-.94 2.06-2.06.94zm-11 1L8.5 8.5l.94-2.06 2.06-.94-2.06-.94L8.5 2.5l-.94 2.06-2.06.94zm10 10l.94 2.06.94-2.06 2.06-.94-2.06-.94-.94-2.06-.94 2.06-2.06.94z\"/><path d=\"M17.41 7.96l-1.37-1.37c-.4-.4-.92-.59-1.43-.59-.52 0-1.04.2-1.43.59L10.3 9.45l-7.72 7.72c-.78.78-.78 2.05 0 2.83L4 21.41c.39.39.9.59 1.41.59.51 0 1.02-.2 1.41-.59l7.78-7.78 2.81-2.81c.8-.78.8-2.07 0-2.86zM5.41 20L4 18.59l7.72-7.72 1.47 1.35L5.41 20z\"/>\n",
              "  </svg>\n",
              "      </button>\n",
              "      \n",
              "  <style>\n",
              "    .colab-df-container {\n",
              "      display:flex;\n",
              "      flex-wrap:wrap;\n",
              "      gap: 12px;\n",
              "    }\n",
              "\n",
              "    .colab-df-convert {\n",
              "      background-color: #E8F0FE;\n",
              "      border: none;\n",
              "      border-radius: 50%;\n",
              "      cursor: pointer;\n",
              "      display: none;\n",
              "      fill: #1967D2;\n",
              "      height: 32px;\n",
              "      padding: 0 0 0 0;\n",
              "      width: 32px;\n",
              "    }\n",
              "\n",
              "    .colab-df-convert:hover {\n",
              "      background-color: #E2EBFA;\n",
              "      box-shadow: 0px 1px 2px rgba(60, 64, 67, 0.3), 0px 1px 3px 1px rgba(60, 64, 67, 0.15);\n",
              "      fill: #174EA6;\n",
              "    }\n",
              "\n",
              "    [theme=dark] .colab-df-convert {\n",
              "      background-color: #3B4455;\n",
              "      fill: #D2E3FC;\n",
              "    }\n",
              "\n",
              "    [theme=dark] .colab-df-convert:hover {\n",
              "      background-color: #434B5C;\n",
              "      box-shadow: 0px 1px 3px 1px rgba(0, 0, 0, 0.15);\n",
              "      filter: drop-shadow(0px 1px 2px rgba(0, 0, 0, 0.3));\n",
              "      fill: #FFFFFF;\n",
              "    }\n",
              "  </style>\n",
              "\n",
              "      <script>\n",
              "        const buttonEl =\n",
              "          document.querySelector('#df-3e148788-0817-4285-92a0-a3d3f843d71c button.colab-df-convert');\n",
              "        buttonEl.style.display =\n",
              "          google.colab.kernel.accessAllowed ? 'block' : 'none';\n",
              "\n",
              "        async function convertToInteractive(key) {\n",
              "          const element = document.querySelector('#df-3e148788-0817-4285-92a0-a3d3f843d71c');\n",
              "          const dataTable =\n",
              "            await google.colab.kernel.invokeFunction('convertToInteractive',\n",
              "                                                     [key], {});\n",
              "          if (!dataTable) return;\n",
              "\n",
              "          const docLinkHtml = 'Like what you see? Visit the ' +\n",
              "            '<a target=\"_blank\" href=https://colab.research.google.com/notebooks/data_table.ipynb>data table notebook</a>'\n",
              "            + ' to learn more about interactive tables.';\n",
              "          element.innerHTML = '';\n",
              "          dataTable['output_type'] = 'display_data';\n",
              "          await google.colab.output.renderOutput(dataTable, element);\n",
              "          const docLink = document.createElement('div');\n",
              "          docLink.innerHTML = docLinkHtml;\n",
              "          element.appendChild(docLink);\n",
              "        }\n",
              "      </script>\n",
              "    </div>\n",
              "  </div>\n",
              "  "
            ]
          },
          "metadata": {},
          "execution_count": 13
        }
      ]
    },
    {
      "cell_type": "markdown",
      "source": [
        "A SARIMAX model is used to train on the training split. The training split contains 1400 examples. The model will then be evaluated on a hold out validation set. This will give us a rough idea on how our model performs on data it has not seen. This will help us tune our model properly and help us get a lower RMSE score on testing set."
      ],
      "metadata": {
        "id": "4npmbAp-gL5f"
      }
    },
    {
      "cell_type": "markdown",
      "source": [
        "Training the model on entire training split"
      ],
      "metadata": {
        "id": "OviJuqtahG4T"
      }
    },
    {
      "cell_type": "code",
      "source": [
        "df = DF[:int(len(DF)*0.8)]\n",
        "test_df = DF[int(len(DF)*0.8):]"
      ],
      "metadata": {
        "id": "e3QACPXUFt3M"
      },
      "execution_count": null,
      "outputs": []
    },
    {
      "cell_type": "code",
      "source": [
        "test_df"
      ],
      "metadata": {
        "colab": {
          "base_uri": "https://localhost:8080/",
          "height": 450
        },
        "id": "4EtWFsghFvlr",
        "outputId": "eac25108-2cb1-4821-ef5d-413c24af4fb4"
      },
      "execution_count": null,
      "outputs": [
        {
          "output_type": "execute_result",
          "data": {
            "text/plain": [
              "                  Flow  FlowPct     AssetsEnd  PortfolioChangePct  \\\n",
              "ReportDate                                                          \n",
              "2014-11-19   19.579354   0.0638  30846.337998              0.5654   \n",
              "2014-11-26  110.030996   0.3567  31674.605768              2.3276   \n",
              "2014-12-03  601.942018   1.8967  32309.382910             -0.0855   \n",
              "2014-12-10  145.516629   0.4503  31617.817436             -2.5899   \n",
              "2014-12-17  -52.047258  -0.1646  31277.444200             -0.9098   \n",
              "...                ...      ...           ...                 ...   \n",
              "2017-01-04  102.862047   0.2704  38338.186347              0.5422   \n",
              "2017-01-11  441.392293   1.1511  39472.923445              1.7914   \n",
              "2017-01-18 -212.668578  -0.5387  39226.390114             -0.0887   \n",
              "2017-01-25  764.591726   1.9491  40972.934296              2.5034   \n",
              "2017-02-01  100.624716   0.2455  40838.901867             -0.5732   \n",
              "\n",
              "                     M16           M50  Buy  Short  \n",
              "ReportDate                                          \n",
              "2014-11-19  29370.319145  27415.893433  1.0    0.0  \n",
              "2014-11-26  29586.202677  27584.227793  1.0    0.0  \n",
              "2014-12-03  29813.728561  27758.349068  1.0    0.0  \n",
              "2014-12-10  29956.826919  27909.019922  1.0    0.0  \n",
              "2014-12-17  30060.648630  28047.257649  1.0    0.0  \n",
              "...                  ...           ...  ...    ...  \n",
              "2017-01-04  36094.001050  32656.647016  1.0    0.0  \n",
              "2017-01-11  36405.509709  32863.184929  1.0    0.0  \n",
              "2017-01-18  36697.135525  33056.312406  1.0    0.0  \n",
              "2017-01-25  37068.070283  33331.330042  1.0    0.0  \n",
              "2017-02-01  37433.423495  33573.113043  1.0    0.0  \n",
              "\n",
              "[116 rows x 8 columns]"
            ],
            "text/html": [
              "\n",
              "  <div id=\"df-9050e78c-7a58-4c50-8be8-40e055454dc5\">\n",
              "    <div class=\"colab-df-container\">\n",
              "      <div>\n",
              "<style scoped>\n",
              "    .dataframe tbody tr th:only-of-type {\n",
              "        vertical-align: middle;\n",
              "    }\n",
              "\n",
              "    .dataframe tbody tr th {\n",
              "        vertical-align: top;\n",
              "    }\n",
              "\n",
              "    .dataframe thead th {\n",
              "        text-align: right;\n",
              "    }\n",
              "</style>\n",
              "<table border=\"1\" class=\"dataframe\">\n",
              "  <thead>\n",
              "    <tr style=\"text-align: right;\">\n",
              "      <th></th>\n",
              "      <th>Flow</th>\n",
              "      <th>FlowPct</th>\n",
              "      <th>AssetsEnd</th>\n",
              "      <th>PortfolioChangePct</th>\n",
              "      <th>M16</th>\n",
              "      <th>M50</th>\n",
              "      <th>Buy</th>\n",
              "      <th>Short</th>\n",
              "    </tr>\n",
              "    <tr>\n",
              "      <th>ReportDate</th>\n",
              "      <th></th>\n",
              "      <th></th>\n",
              "      <th></th>\n",
              "      <th></th>\n",
              "      <th></th>\n",
              "      <th></th>\n",
              "      <th></th>\n",
              "      <th></th>\n",
              "    </tr>\n",
              "  </thead>\n",
              "  <tbody>\n",
              "    <tr>\n",
              "      <th>2014-11-19</th>\n",
              "      <td>19.579354</td>\n",
              "      <td>0.0638</td>\n",
              "      <td>30846.337998</td>\n",
              "      <td>0.5654</td>\n",
              "      <td>29370.319145</td>\n",
              "      <td>27415.893433</td>\n",
              "      <td>1.0</td>\n",
              "      <td>0.0</td>\n",
              "    </tr>\n",
              "    <tr>\n",
              "      <th>2014-11-26</th>\n",
              "      <td>110.030996</td>\n",
              "      <td>0.3567</td>\n",
              "      <td>31674.605768</td>\n",
              "      <td>2.3276</td>\n",
              "      <td>29586.202677</td>\n",
              "      <td>27584.227793</td>\n",
              "      <td>1.0</td>\n",
              "      <td>0.0</td>\n",
              "    </tr>\n",
              "    <tr>\n",
              "      <th>2014-12-03</th>\n",
              "      <td>601.942018</td>\n",
              "      <td>1.8967</td>\n",
              "      <td>32309.382910</td>\n",
              "      <td>-0.0855</td>\n",
              "      <td>29813.728561</td>\n",
              "      <td>27758.349068</td>\n",
              "      <td>1.0</td>\n",
              "      <td>0.0</td>\n",
              "    </tr>\n",
              "    <tr>\n",
              "      <th>2014-12-10</th>\n",
              "      <td>145.516629</td>\n",
              "      <td>0.4503</td>\n",
              "      <td>31617.817436</td>\n",
              "      <td>-2.5899</td>\n",
              "      <td>29956.826919</td>\n",
              "      <td>27909.019922</td>\n",
              "      <td>1.0</td>\n",
              "      <td>0.0</td>\n",
              "    </tr>\n",
              "    <tr>\n",
              "      <th>2014-12-17</th>\n",
              "      <td>-52.047258</td>\n",
              "      <td>-0.1646</td>\n",
              "      <td>31277.444200</td>\n",
              "      <td>-0.9098</td>\n",
              "      <td>30060.648630</td>\n",
              "      <td>28047.257649</td>\n",
              "      <td>1.0</td>\n",
              "      <td>0.0</td>\n",
              "    </tr>\n",
              "    <tr>\n",
              "      <th>...</th>\n",
              "      <td>...</td>\n",
              "      <td>...</td>\n",
              "      <td>...</td>\n",
              "      <td>...</td>\n",
              "      <td>...</td>\n",
              "      <td>...</td>\n",
              "      <td>...</td>\n",
              "      <td>...</td>\n",
              "    </tr>\n",
              "    <tr>\n",
              "      <th>2017-01-04</th>\n",
              "      <td>102.862047</td>\n",
              "      <td>0.2704</td>\n",
              "      <td>38338.186347</td>\n",
              "      <td>0.5422</td>\n",
              "      <td>36094.001050</td>\n",
              "      <td>32656.647016</td>\n",
              "      <td>1.0</td>\n",
              "      <td>0.0</td>\n",
              "    </tr>\n",
              "    <tr>\n",
              "      <th>2017-01-11</th>\n",
              "      <td>441.392293</td>\n",
              "      <td>1.1511</td>\n",
              "      <td>39472.923445</td>\n",
              "      <td>1.7914</td>\n",
              "      <td>36405.509709</td>\n",
              "      <td>32863.184929</td>\n",
              "      <td>1.0</td>\n",
              "      <td>0.0</td>\n",
              "    </tr>\n",
              "    <tr>\n",
              "      <th>2017-01-18</th>\n",
              "      <td>-212.668578</td>\n",
              "      <td>-0.5387</td>\n",
              "      <td>39226.390114</td>\n",
              "      <td>-0.0887</td>\n",
              "      <td>36697.135525</td>\n",
              "      <td>33056.312406</td>\n",
              "      <td>1.0</td>\n",
              "      <td>0.0</td>\n",
              "    </tr>\n",
              "    <tr>\n",
              "      <th>2017-01-25</th>\n",
              "      <td>764.591726</td>\n",
              "      <td>1.9491</td>\n",
              "      <td>40972.934296</td>\n",
              "      <td>2.5034</td>\n",
              "      <td>37068.070283</td>\n",
              "      <td>33331.330042</td>\n",
              "      <td>1.0</td>\n",
              "      <td>0.0</td>\n",
              "    </tr>\n",
              "    <tr>\n",
              "      <th>2017-02-01</th>\n",
              "      <td>100.624716</td>\n",
              "      <td>0.2455</td>\n",
              "      <td>40838.901867</td>\n",
              "      <td>-0.5732</td>\n",
              "      <td>37433.423495</td>\n",
              "      <td>33573.113043</td>\n",
              "      <td>1.0</td>\n",
              "      <td>0.0</td>\n",
              "    </tr>\n",
              "  </tbody>\n",
              "</table>\n",
              "<p>116 rows × 8 columns</p>\n",
              "</div>\n",
              "      <button class=\"colab-df-convert\" onclick=\"convertToInteractive('df-9050e78c-7a58-4c50-8be8-40e055454dc5')\"\n",
              "              title=\"Convert this dataframe to an interactive table.\"\n",
              "              style=\"display:none;\">\n",
              "        \n",
              "  <svg xmlns=\"http://www.w3.org/2000/svg\" height=\"24px\"viewBox=\"0 0 24 24\"\n",
              "       width=\"24px\">\n",
              "    <path d=\"M0 0h24v24H0V0z\" fill=\"none\"/>\n",
              "    <path d=\"M18.56 5.44l.94 2.06.94-2.06 2.06-.94-2.06-.94-.94-2.06-.94 2.06-2.06.94zm-11 1L8.5 8.5l.94-2.06 2.06-.94-2.06-.94L8.5 2.5l-.94 2.06-2.06.94zm10 10l.94 2.06.94-2.06 2.06-.94-2.06-.94-.94-2.06-.94 2.06-2.06.94z\"/><path d=\"M17.41 7.96l-1.37-1.37c-.4-.4-.92-.59-1.43-.59-.52 0-1.04.2-1.43.59L10.3 9.45l-7.72 7.72c-.78.78-.78 2.05 0 2.83L4 21.41c.39.39.9.59 1.41.59.51 0 1.02-.2 1.41-.59l7.78-7.78 2.81-2.81c.8-.78.8-2.07 0-2.86zM5.41 20L4 18.59l7.72-7.72 1.47 1.35L5.41 20z\"/>\n",
              "  </svg>\n",
              "      </button>\n",
              "      \n",
              "  <style>\n",
              "    .colab-df-container {\n",
              "      display:flex;\n",
              "      flex-wrap:wrap;\n",
              "      gap: 12px;\n",
              "    }\n",
              "\n",
              "    .colab-df-convert {\n",
              "      background-color: #E8F0FE;\n",
              "      border: none;\n",
              "      border-radius: 50%;\n",
              "      cursor: pointer;\n",
              "      display: none;\n",
              "      fill: #1967D2;\n",
              "      height: 32px;\n",
              "      padding: 0 0 0 0;\n",
              "      width: 32px;\n",
              "    }\n",
              "\n",
              "    .colab-df-convert:hover {\n",
              "      background-color: #E2EBFA;\n",
              "      box-shadow: 0px 1px 2px rgba(60, 64, 67, 0.3), 0px 1px 3px 1px rgba(60, 64, 67, 0.15);\n",
              "      fill: #174EA6;\n",
              "    }\n",
              "\n",
              "    [theme=dark] .colab-df-convert {\n",
              "      background-color: #3B4455;\n",
              "      fill: #D2E3FC;\n",
              "    }\n",
              "\n",
              "    [theme=dark] .colab-df-convert:hover {\n",
              "      background-color: #434B5C;\n",
              "      box-shadow: 0px 1px 3px 1px rgba(0, 0, 0, 0.15);\n",
              "      filter: drop-shadow(0px 1px 2px rgba(0, 0, 0, 0.3));\n",
              "      fill: #FFFFFF;\n",
              "    }\n",
              "  </style>\n",
              "\n",
              "      <script>\n",
              "        const buttonEl =\n",
              "          document.querySelector('#df-9050e78c-7a58-4c50-8be8-40e055454dc5 button.colab-df-convert');\n",
              "        buttonEl.style.display =\n",
              "          google.colab.kernel.accessAllowed ? 'block' : 'none';\n",
              "\n",
              "        async function convertToInteractive(key) {\n",
              "          const element = document.querySelector('#df-9050e78c-7a58-4c50-8be8-40e055454dc5');\n",
              "          const dataTable =\n",
              "            await google.colab.kernel.invokeFunction('convertToInteractive',\n",
              "                                                     [key], {});\n",
              "          if (!dataTable) return;\n",
              "\n",
              "          const docLinkHtml = 'Like what you see? Visit the ' +\n",
              "            '<a target=\"_blank\" href=https://colab.research.google.com/notebooks/data_table.ipynb>data table notebook</a>'\n",
              "            + ' to learn more about interactive tables.';\n",
              "          element.innerHTML = '';\n",
              "          dataTable['output_type'] = 'display_data';\n",
              "          await google.colab.output.renderOutput(dataTable, element);\n",
              "          const docLink = document.createElement('div');\n",
              "          docLink.innerHTML = docLinkHtml;\n",
              "          element.appendChild(docLink);\n",
              "        }\n",
              "      </script>\n",
              "    </div>\n",
              "  </div>\n",
              "  "
            ]
          },
          "metadata": {},
          "execution_count": 17
        }
      ]
    },
    {
      "cell_type": "code",
      "source": [
        "df = DF[:int(len(DF)*0.8)].reset_index(drop=True)\n",
        "test_df = DF[int(len(DF)*0.8):].reset_index(drop=True)\n",
        "sc1 = StandardScaler()\n",
        "sc2 = StandardScaler()\n",
        "columns = ['Flow','FlowPct','PortfolioChangePct','M16','M50','Buy','Short']\n",
        "df[columns] = sc1.fit_transform(df[columns])\n",
        "test_df[columns] = sc1.transform(test_df[columns])\n",
        "df['AssetsEnd'] = sc2.fit_transform(df[['AssetsEnd']])\n",
        "\n",
        "\n",
        "model = SARIMAX(endog=df['AssetsEnd'],exog=df[columns],order=(2,0,0),seasonal_order=(0,1,2,16),trend=[1,0,1,1],trend_offset=7,enforce_invertibility=False,enforce_stationarity=False,start_params=[0,0,1,0,1,2,1,2])\n",
        "model_fit = model.fit(disp=0,maxiter=50,cov_type=\"robust\",method=\"lbfgs\")"
      ],
      "metadata": {
        "id": "aJfc-eyOPLaL"
      },
      "execution_count": null,
      "outputs": []
    },
    {
      "cell_type": "code",
      "source": [
        "future = model_fit.forecast(steps=len(test_df),exog = test_df[columns],dynamic=False)\n",
        "\n",
        "future = sc2.inverse_transform(future.values.reshape(-1,1))\n",
        "\n",
        "future = pd.Series(future.reshape(-1),name='predicted_mean',index=test_df[\"AssetsEnd\"].index)\n",
        "ans = pd.concat([test_df[\"AssetsEnd\"],future],axis=1)\n",
        "ans.plot()"
      ],
      "metadata": {
        "colab": {
          "base_uri": "https://localhost:8080/",
          "height": 282
        },
        "id": "OT1P8TXrPLUY",
        "outputId": "5958ef5f-a917-44c8-d4fa-ccae51338e19"
      },
      "execution_count": null,
      "outputs": [
        {
          "output_type": "execute_result",
          "data": {
            "text/plain": [
              "<matplotlib.axes._subplots.AxesSubplot at 0x7f88e7f50d90>"
            ]
          },
          "metadata": {},
          "execution_count": 26
        },
        {
          "output_type": "display_data",
          "data": {
            "text/plain": [
              "<Figure size 432x288 with 1 Axes>"
            ],
            "image/png": "[encoded data removed]"
          },
          "metadata": {
            "needs_background": "light"
          }
        }
      ]
    },
    {
      "cell_type": "code",
      "source": [
        "future"
      ],
      "metadata": {
        "colab": {
          "base_uri": "https://localhost:8080/"
        },
        "id": "rovT_JiOIpGb",
        "outputId": "8d2088ac-40a6-4e57-851b-950e7b65eac3"
      },
      "execution_count": null,
      "outputs": [
        {
          "output_type": "execute_result",
          "data": {
            "text/plain": [
              "0      30517.119042\n",
              "1      30898.991917\n",
              "2      31695.403265\n",
              "3      31270.282768\n",
              "4      31244.250912\n",
              "           ...     \n",
              "111    36472.219091\n",
              "112    37268.233414\n",
              "113    36560.174664\n",
              "114    38261.656246\n",
              "115    37770.672411\n",
              "Name: predicted_mean, Length: 116, dtype: float64"
            ]
          },
          "metadata": {},
          "execution_count": 28
        }
      ]
    },
    {
      "cell_type": "code",
      "source": [
        "rmse = math.sqrt(mean_squared_error(test_df[\"AssetsEnd\"],future))\n",
        "rmse"
      ],
      "metadata": {
        "colab": {
          "base_uri": "https://localhost:8080/"
        },
        "id": "pHKDaWJ1PLOd",
        "outputId": "c53b7222-d62f-4259-f5df-b73cc432d6dd"
      },
      "execution_count": null,
      "outputs": [
        {
          "output_type": "execute_result",
          "data": {
            "text/plain": [
              "1766.3098929614846"
            ]
          },
          "metadata": {},
          "execution_count": 20
        }
      ]
    },
    {
      "cell_type": "code",
      "source": [
        ""
      ],
      "metadata": {
        "id": "Zih1TEhGJs1a"
      },
      "execution_count": null,
      "outputs": []
    },
    {
      "cell_type": "code",
      "source": [
        "# Moving Average based training signals\n",
        "short_window = 8\n",
        "long_window = 20\n",
        "\n",
        "signals = pd.DataFrame(index=future.index)\n",
        "signals['signal'] = 0.0\n",
        "\n",
        "signals['short_mavg'] = future.rolling(window=short_window, min_periods=1, center=False).mean()\n",
        "signals['long_mavg'] = future.rolling(window=long_window, min_periods=1, center=False).mean()\n",
        "signals['signal'][short_window:] = np.where(signals['short_mavg'][short_window:] \n",
        "                                            > signals['long_mavg'][short_window:], 1.0, 0.0)   \n",
        "signals['positions'] = signals['signal'].diff()"
      ],
      "metadata": {
        "id": "I7BbtV4IPK9Y"
      },
      "execution_count": null,
      "outputs": []
    },
    {
      "cell_type": "code",
      "source": [
        "fig = plt.figure()\n",
        "ax1 = fig.add_subplot(111,  ylabel='Price in $')\n",
        "future.plot(ax=ax1, color='r', lw=2.)\n",
        "\n",
        "\n",
        "signals[['short_mavg', 'long_mavg']].plot(ax=ax1, lw=2.)\n",
        "ax1.plot(signals.loc[signals.positions == 1.0].index, \n",
        "         signals.short_mavg[signals.positions == 1.0],\n",
        "         '^', markersize=10, color='y')\n",
        "\n",
        "ax1.plot(signals.loc[signals.positions == -1.0].index, \n",
        "         signals.short_mavg[signals.positions == -1.0],\n",
        "         'v', markersize=10, color='k')\n",
        "         \n",
        "plt.show()"
      ],
      "metadata": {
        "id": "61tck_P0PK3V",
        "colab": {
          "base_uri": "https://localhost:8080/",
          "height": 265
        },
        "outputId": "4f58bea3-1251-43ba-8b5c-bee06d8b79f5"
      },
      "execution_count": null,
      "outputs": [
        {
          "output_type": "display_data",
          "data": {
            "text/plain": [
              "<Figure size 432x288 with 1 Axes>"
            ],
            "image/png": "[encoded data removed]"
          },
          "metadata": {
            "needs_background": "light"
          }
        }
      ]
    },
    {
      "cell_type": "code",
      "source": [
        "signals_2 = pd.DataFrame(index=test_df[\"AssetsEnd\"].index)\n",
        "signals_2['signal'] = 0.0\n",
        "\n",
        "signals_2['short_mavg'] = test_df[\"AssetsEnd\"].rolling(window=short_window, min_periods=1, center=False).mean()\n",
        "signals_2['long_mavg'] = test_df[\"AssetsEnd\"].rolling(window=long_window, min_periods=1, center=False).mean()\n",
        "signals_2['signal'][short_window:] = np.where(signals_2['short_mavg'][short_window:] \n",
        "                                            > signals_2['long_mavg'][short_window:], 1.0, 0.0)   \n",
        "signals_2['positions'] = signals_2['signal'].diff()"
      ],
      "metadata": {
        "id": "_8h8q6ApPKw8"
      },
      "execution_count": null,
      "outputs": []
    },
    {
      "cell_type": "code",
      "source": [
        "fig = plt.figure()\n",
        "ax1 = fig.add_subplot(111,  ylabel='Price in $')\n",
        "test_df[\"AssetsEnd\"].plot(ax=ax1, color='r', lw=2.)\n",
        "\n",
        "\n",
        "signals_2[['short_mavg', 'long_mavg']].plot(ax=ax1, lw=2.)\n",
        "ax1.plot(signals_2.loc[signals_2.positions == 1.0].index, \n",
        "         signals_2.short_mavg[signals_2.positions == 1.0],\n",
        "         '^', markersize=10, color='y')\n",
        "\n",
        "ax1.plot(signals_2.loc[signals_2.positions == -1.0].index, \n",
        "         signals_2.short_mavg[signals_2.positions == -1.0],\n",
        "         'v', markersize=10, color='k')\n",
        "         \n",
        "plt.show()"
      ],
      "metadata": {
        "colab": {
          "base_uri": "https://localhost:8080/",
          "height": 265
        },
        "id": "x37bg4IDW6nO",
        "outputId": "e3153c1d-bff1-4cd4-f39e-eb30c2015ef1"
      },
      "execution_count": null,
      "outputs": [
        {
          "output_type": "display_data",
          "data": {
            "text/plain": [
              "<Figure size 432x288 with 1 Axes>"
            ],
            "image/png": "[encoded data removed]"
          },
          "metadata": {
            "needs_background": "light"
          }
        }
      ]
    },
    {
      "cell_type": "code",
      "source": [
        "from sklearn import metrics\n",
        "auc = metrics.roc_auc_score(signals_2['signal'], signals['signal'])\n",
        "print(auc)"
      ],
      "metadata": {
        "colab": {
          "base_uri": "https://localhost:8080/"
        },
        "id": "PJ0pAhulXVLa",
        "outputId": "a978d06a-78d5-497e-efb4-92da501c0937"
      },
      "execution_count": null,
      "outputs": [
        {
          "output_type": "stream",
          "name": "stdout",
          "text": [
            "0.6388221153846154\n"
          ]
        }
      ]
    }
  ]
}