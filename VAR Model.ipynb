{
 "cells": [
  {
   "cell_type": "code",
   "execution_count": 37,
   "metadata": {},
   "outputs": [],
   "source": [
    "import numpy as np\n",
    "import pandas as pd\n",
    "import seaborn as sns\n",
    "import matplotlib.pyplot as plt\n",
    "from datetime import datetime\n",
    "import matplotlib.dates as mdatesJ\n",
    "from matplotlib.dates import DateFormatter"
   ]
  },
  {
   "cell_type": "code",
   "execution_count": 38,
   "metadata": {},
   "outputs": [],
   "source": [
    "Etf=pd.read_csv('https://raw.githubusercontent.com/LinhTo11/Capstone/main/US%20Sector%20Inst%20ETF.csv?token=GHSAT0AAAAAABROZZ62LUZBZWCANVXWLXYGYQ6PCIA')\n",
    "Institutional=pd.read_csv('https://raw.githubusercontent.com/LinhTo11/Capstone/main/US%20Sector%20Institutional%20MF.csv?token=GHSAT0AAAAAABROZZ627EZDQVMQKRV7VL5UYQ6PCPA') \n",
    "Retail=pd.read_csv('https://raw.githubusercontent.com/LinhTo11/Capstone/main/US%20Sector%20Retail%20MF.csv?token=GHSAT0AAAAAABROZZ62SVTK7JQNRR6372LUYQ6PCXQ')\n",
    "sp500=pd.read_csv('https://raw.githubusercontent.com/LinhTo11/Capstone/main/sp500index.csv?token=GHSAT0AAAAAABROZZ63CQAUFDLJ2BUUKBNAYQ6PDAQ')"
   ]
  },
  {
   "cell_type": "markdown",
   "metadata": {},
   "source": [
    "# VAR model"
   ]
  },
  {
   "cell_type": "markdown",
   "metadata": {},
   "source": [
    "## Preprocessing data"
   ]
  },
  {
   "cell_type": "markdown",
   "metadata": {},
   "source": [
    "We are going to group by AssetClass (19 in each dataset) and do this step for 3 datasets."
   ]
  },
  {
   "cell_type": "code",
   "execution_count": 39,
   "metadata": {},
   "outputs": [],
   "source": [
    "def preprocessing(df): \n",
    "  # trim AssetClass names\n",
    "  df['AssetClass'] = df['AssetClass'].str.replace('-North America-USA-North America-Equity', '')\n",
    "\n",
    "  # convert ReportDate to datetime \n",
    "  df['ReportDate'] = df['ReportDate'].map(lambda x: x.replace(' 12:00:00 AM', ''))\n",
    "  df['ReportDate'] = pd.to_datetime(df['ReportDate'])\n",
    "  # set ReportDate as index\n",
    "  df.sort_values(\"ReportDate\", inplace=True)\n",
    "  df.set_index('ReportDate', inplace=True)\n",
    "  # Drop where assetclass = infrastructure\n",
    "  rows_to_drop = ['Infrastructure']\n",
    "  condition_df = ~df[\"AssetClass\"].isin(rows_to_drop)\n",
    "  df = df[condition_df]\n",
    "  return df"
   ]
  },
  {
   "cell_type": "code",
   "execution_count": 40,
   "metadata": {},
   "outputs": [],
   "source": [
    "etf = preprocessing(Etf)\n",
    "institutional = preprocessing(Institutional)\n",
    "retail = preprocessing(Retail)\n"
   ]
  },
  {
   "cell_type": "code",
   "execution_count": 41,
   "metadata": {},
   "outputs": [],
   "source": [
    "etf_statistics = etf.drop('AssetClass', axis = 1)\n",
    "institutional_statistics = institutional.drop('AssetClass', axis = 1)\n",
    "retail_statistics = retail.drop('AssetClass', axis = 1)"
   ]
  },
  {
   "cell_type": "markdown",
   "metadata": {},
   "source": [
    "## Granger causality test"
   ]
  },
  {
   "cell_type": "code",
   "execution_count": 42,
   "metadata": {},
   "outputs": [
    {
     "name": "stdout",
     "output_type": "stream",
     "text": [
      "Requirement already satisfied: statsmodels in c:\\users\\linhto\\miniconda3\\lib\\site-packages (0.13.2)\n",
      "Requirement already satisfied: pandas>=0.25 in c:\\users\\linhto\\miniconda3\\lib\\site-packages (from statsmodels) (1.3.3)\n",
      "Requirement already satisfied: packaging>=21.3 in c:\\users\\linhto\\miniconda3\\lib\\site-packages (from statsmodels) (21.3)\n",
      "Requirement already satisfied: patsy>=0.5.2 in c:\\users\\linhto\\miniconda3\\lib\\site-packages (from statsmodels) (0.5.2)\n",
      "Requirement already satisfied: scipy>=1.3 in c:\\users\\linhto\\miniconda3\\lib\\site-packages (from statsmodels) (1.7.1)\n",
      "Requirement already satisfied: numpy>=1.17 in c:\\users\\linhto\\miniconda3\\lib\\site-packages (from statsmodels) (1.20.3)\n",
      "Requirement already satisfied: pyparsing!=3.0.5,>=2.0.2 in c:\\users\\linhto\\miniconda3\\lib\\site-packages (from packaging>=21.3->statsmodels) (2.4.7)\n",
      "Requirement already satisfied: pytz>=2017.3 in c:\\users\\linhto\\miniconda3\\lib\\site-packages (from pandas>=0.25->statsmodels) (2021.1)\n",
      "Requirement already satisfied: python-dateutil>=2.7.3 in c:\\users\\linhto\\miniconda3\\lib\\site-packages (from pandas>=0.25->statsmodels) (2.8.2)\n",
      "Requirement already satisfied: six in c:\\users\\linhto\\miniconda3\\lib\\site-packages (from patsy>=0.5.2->statsmodels) (1.16.0)\n"
     ]
    }
   ],
   "source": [
    "!pip install statsmodels"
   ]
  },
  {
   "cell_type": "code",
   "execution_count": 43,
   "metadata": {},
   "outputs": [],
   "source": [
    "from statsmodels.tsa.stattools import grangercausalitytests"
   ]
  },
  {
   "cell_type": "code",
   "execution_count": 44,
   "metadata": {},
   "outputs": [],
   "source": [
    "maxlag=12\n",
    "test = 'ssr_chi2test'\n",
    "def grangers_causation_matrix(data, variables, test='ssr_chi2test', verbose=False):    \n",
    "  \"\"\"Check Granger Causality of all possible combinations of the Time series.\n",
    "  The rows are the response variable, columns are predictors. The values in the table \n",
    "  are the P-Values. P-Values lesser than the significance level (0.05), implies \n",
    "  the Null Hypothesis that the coefficients of the corresponding past values is \n",
    "  zero, that is, the X does not cause Y can be rejected.\n",
    "\n",
    "  data      : pandas dataframe containing the time series variables\n",
    "  variables : list containing names of the time series variables.\n",
    "  \"\"\"\n",
    "  df = pd.DataFrame(np.zeros((len(variables), len(variables))), columns=variables, index=variables)\n",
    "  for c in df.columns:\n",
    "    for r in df.index:\n",
    "      test_result = grangercausalitytests(data[[r, c]], maxlag=maxlag, verbose=False)\n",
    "      p_values = [round(test_result[i+1][0][test][1],4) for i in range(maxlag)]\n",
    "      if verbose: print(f'Y = {r}, X = {c}, P Values = {p_values}')\n",
    "      min_p_value = np.min(p_values)\n",
    "      df.loc[r, c] = min_p_value\n",
    "  df.columns = [var + '_x' for var in variables]\n",
    "  df.index = [var + '_y' for var in variables]\n",
    "  return df"
   ]
  },
  {
   "cell_type": "code",
   "execution_count": 45,
   "metadata": {},
   "outputs": [
    {
     "data": {
      "text/html": [
       "<div>\n",
       "<style scoped>\n",
       "    .dataframe tbody tr th:only-of-type {\n",
       "        vertical-align: middle;\n",
       "    }\n",
       "\n",
       "    .dataframe tbody tr th {\n",
       "        vertical-align: top;\n",
       "    }\n",
       "\n",
       "    .dataframe thead th {\n",
       "        text-align: right;\n",
       "    }\n",
       "</style>\n",
       "<table border=\"1\" class=\"dataframe\">\n",
       "  <thead>\n",
       "    <tr style=\"text-align: right;\">\n",
       "      <th></th>\n",
       "      <th>Flow_x</th>\n",
       "      <th>FlowPct_x</th>\n",
       "      <th>AssetsEnd_x</th>\n",
       "      <th>PortfolioChangePct_x</th>\n",
       "    </tr>\n",
       "  </thead>\n",
       "  <tbody>\n",
       "    <tr>\n",
       "      <th>Flow_y</th>\n",
       "      <td>1.0000</td>\n",
       "      <td>0.0000</td>\n",
       "      <td>0.7267</td>\n",
       "      <td>0.0000</td>\n",
       "    </tr>\n",
       "    <tr>\n",
       "      <th>FlowPct_y</th>\n",
       "      <td>0.0053</td>\n",
       "      <td>1.0000</td>\n",
       "      <td>0.5931</td>\n",
       "      <td>0.0000</td>\n",
       "    </tr>\n",
       "    <tr>\n",
       "      <th>AssetsEnd_y</th>\n",
       "      <td>0.4211</td>\n",
       "      <td>0.6336</td>\n",
       "      <td>1.0000</td>\n",
       "      <td>0.3292</td>\n",
       "    </tr>\n",
       "    <tr>\n",
       "      <th>PortfolioChangePct_y</th>\n",
       "      <td>0.3389</td>\n",
       "      <td>0.0000</td>\n",
       "      <td>0.0401</td>\n",
       "      <td>1.0000</td>\n",
       "    </tr>\n",
       "  </tbody>\n",
       "</table>\n",
       "</div>"
      ],
      "text/plain": [
       "                      Flow_x  FlowPct_x  AssetsEnd_x  PortfolioChangePct_x\n",
       "Flow_y                1.0000     0.0000       0.7267                0.0000\n",
       "FlowPct_y             0.0053     1.0000       0.5931                0.0000\n",
       "AssetsEnd_y           0.4211     0.6336       1.0000                0.3292\n",
       "PortfolioChangePct_y  0.3389     0.0000       0.0401                1.0000"
      ]
     },
     "execution_count": 45,
     "metadata": {},
     "output_type": "execute_result"
    }
   ],
   "source": [
    "grangers_causation_matrix(etf_statistics, variables = etf_statistics.columns)"
   ]
  },
  {
   "cell_type": "markdown",
   "metadata": {},
   "source": [
    "If a given p-value is < significance level (0.05), then, the corresponding X series (column) causes the Y (row).\n",
    "\n",
    "\n",
    "So, we can reject the null hypothesis and conclude all the other variables (time series) in the system are interchangeably causing each other."
   ]
  },
  {
   "cell_type": "markdown",
   "metadata": {},
   "source": [
    "## ADF test"
   ]
  },
  {
   "cell_type": "code",
   "execution_count": 46,
   "metadata": {},
   "outputs": [],
   "source": [
    "from statsmodels.tsa.stattools import adfuller, kpss\n",
    "\n",
    "# ADF Test\n",
    "def adf_test(df):\n",
    "  adf1 = adfuller(df['FlowPct'], 12)\n",
    "  print(\"Statistics analysis of FlowPct\\n\")\n",
    "  print(\"Statistic Test:\", adf1[0])\n",
    "  print(\"p-value:\", adf1[1])\n",
    "  # print(\"n_lags:\", adf[2])\n",
    "  # print(\"Number of observation:\", adf[3])\n",
    "  # for key,value in adf[4].items():\n",
    "  #     print(f\" Critical value {key}: {value}\")\n",
    "  p_value = adf1[1]\n",
    "  if p_value <= 0.05:\n",
    "    print(f\" => P-Value = {p_value}. Rejecting Null Hypothesis.\")\n",
    "    print(f\" => Series is Stationary.\\n\")\n",
    "  else:\n",
    "    print(f\" => P-Value = {p_value}. Weak evidence to reject the Null Hypothesis.\")\n",
    "    print(f\" => Series is Non-Stationary.\\n\")\n",
    "\n",
    "  adf2 = adfuller(df['PortfolioChangePct'], 12)\n",
    "  print(\"Statistics analysis of PortfolioChangePct\\n\")\n",
    "  print(\"Statistic Test:\", adf2[0])\n",
    "  print(\"p-value:\", adf2[1])\n",
    "  p_value = adf2[1]\n",
    "  if p_value <= 0.05:\n",
    "    print(f\" => P-Value = {p_value}. Rejecting Null Hypothesis.\")\n",
    "    print(f\" => Series is Stationary.\")\n",
    "  else:\n",
    "    print(f\" => P-Value = {p_value}. Weak evidence to reject the Null Hypothesis.\")\n",
    "    print(f\" => Series is Non-Stationary.\")"
   ]
  },
  {
   "cell_type": "code",
   "execution_count": 47,
   "metadata": {},
   "outputs": [
    {
     "name": "stdout",
     "output_type": "stream",
     "text": [
      "Statistics analysis of FlowPct\n",
      "\n",
      "Statistic Test: -26.256112683583073\n",
      "p-value: 0.0\n",
      " => P-Value = 0.0. Rejecting Null Hypothesis.\n",
      " => Series is Stationary.\n",
      "\n",
      "Statistics analysis of PortfolioChangePct\n",
      "\n",
      "Statistic Test: -20.958704082247245\n",
      "p-value: 0.0\n",
      " => P-Value = 0.0. Rejecting Null Hypothesis.\n",
      " => Series is Stationary.\n"
     ]
    }
   ],
   "source": [
    "adf_test(etf_statistics)"
   ]
  },
  {
   "cell_type": "code",
   "execution_count": 48,
   "metadata": {},
   "outputs": [
    {
     "name": "stdout",
     "output_type": "stream",
     "text": [
      "Statistics analysis of FlowPct\n",
      "\n",
      "Statistic Test: -42.12045393857417\n",
      "p-value: 0.0\n",
      " => P-Value = 0.0. Rejecting Null Hypothesis.\n",
      " => Series is Stationary.\n",
      "\n",
      "Statistics analysis of PortfolioChangePct\n",
      "\n",
      "Statistic Test: -20.72396350193041\n",
      "p-value: 0.0\n",
      " => P-Value = 0.0. Rejecting Null Hypothesis.\n",
      " => Series is Stationary.\n"
     ]
    }
   ],
   "source": [
    "adf_test(institutional_statistics)"
   ]
  },
  {
   "cell_type": "code",
   "execution_count": 49,
   "metadata": {},
   "outputs": [
    {
     "name": "stdout",
     "output_type": "stream",
     "text": [
      "Statistics analysis of FlowPct\n",
      "\n",
      "Statistic Test: -101.29276520252593\n",
      "p-value: 0.0\n",
      " => P-Value = 0.0. Rejecting Null Hypothesis.\n",
      " => Series is Stationary.\n",
      "\n",
      "Statistics analysis of PortfolioChangePct\n",
      "\n",
      "Statistic Test: -20.802680277868664\n",
      "p-value: 0.0\n",
      " => P-Value = 0.0. Rejecting Null Hypothesis.\n",
      " => Series is Stationary.\n"
     ]
    }
   ],
   "source": [
    "adf_test(retail_statistics)"
   ]
  },
  {
   "cell_type": "markdown",
   "metadata": {},
   "source": [
    "We can conclude that all that data are stationary and ready for VAR model."
   ]
  },
  {
   "cell_type": "code",
   "execution_count": 50,
   "metadata": {},
   "outputs": [
    {
     "data": {
      "text/plain": [
       "array(['Utilities', 'Commodities/Materials', 'Consumer Goods', 'Energy',\n",
       "       'Financials', 'Health Care/Biotech', 'Industrials',\n",
       "       'Large Cap Blend', 'Large Cap Growth', 'Telecom', 'Mid Cap Blend',\n",
       "       'Technology', 'Small Cap Value', 'Small Cap Growth',\n",
       "       'Large Cap Value', 'Real Estate', 'Mid Cap Value',\n",
       "       'Mid Cap Growth', 'Small Cap Blend'], dtype=object)"
      ]
     },
     "execution_count": 50,
     "metadata": {},
     "output_type": "execute_result"
    }
   ],
   "source": [
    "etf['AssetClass'].unique()"
   ]
  },
  {
   "cell_type": "code",
   "execution_count": 51,
   "metadata": {},
   "outputs": [],
   "source": [
    "def group_by_assetclass(df):\n",
    "\n",
    "    arraysDict = {}\n",
    "    grouped = df.groupby(df['AssetClass'])\n",
    "    for i in df['AssetClass']:\n",
    "        arraysDict['model_{0}'.format(i)] = grouped.get_group(i)\n",
    "\n",
    "\n",
    "    return arraysDict\n",
    "\n",
    "# carry-out the train-test split of the data and keep the last 10-weeks as test data.\n",
    "def split(arraysDict, observations=10):\n",
    "  global train\n",
    "  global test\n",
    "  train_dict = {}\n",
    "  test_dict = {}\n",
    "  for key in arraysDict.keys():\n",
    "      # columns to drop and split train test sets\n",
    "      arraysDict.get(key).drop('AssetClass', axis = 1, inplace = True)\n",
    "      arraysDict.get(key).dropna()\n",
    "\n",
    "      train_dict[key] = arraysDict.get(key).iloc[:-observations,:]\n",
    "      test_dict[key] = arraysDict.get(key).iloc[-observations:,:]\n",
    "  return train_dict, test_dict"
   ]
  },
  {
   "cell_type": "code",
   "execution_count": 52,
   "metadata": {},
   "outputs": [],
   "source": [
    "arraysDict_etf = group_by_assetclass(etf)\n",
    "arraysDict_institutional = group_by_assetclass(institutional)\n",
    "arraysDict_retail = group_by_assetclass(retail)"
   ]
  },
  {
   "cell_type": "code",
   "execution_count": 53,
   "metadata": {},
   "outputs": [
    {
     "name": "stderr",
     "output_type": "stream",
     "text": [
      "C:\\Users\\LinhTo\\miniconda3\\lib\\site-packages\\pandas\\core\\frame.py:4906: SettingWithCopyWarning: \n",
      "A value is trying to be set on a copy of a slice from a DataFrame\n",
      "\n",
      "See the caveats in the documentation: https://pandas.pydata.org/pandas-docs/stable/user_guide/indexing.html#returning-a-view-versus-a-copy\n",
      "  return super().drop(\n"
     ]
    }
   ],
   "source": [
    "train_etf_dict, test_etf_dict = split(arraysDict_etf)\n",
    "train_institutional_dict, test_institutional_dict = split(arraysDict_institutional)\n",
    "train_retail_dict, test_retail_dict = split(arraysDict_retail)\n",
    " "
   ]
  },
  {
   "cell_type": "markdown",
   "metadata": {},
   "source": [
    "## VAR model"
   ]
  },
  {
   "cell_type": "code",
   "execution_count": 54,
   "metadata": {},
   "outputs": [],
   "source": [
    "from statsmodels.tsa.api import VAR"
   ]
  },
  {
   "cell_type": "markdown",
   "metadata": {},
   "source": [
    "### Run model and fit model"
   ]
  },
  {
   "cell_type": "code",
   "execution_count": 55,
   "metadata": {},
   "outputs": [],
   "source": [
    "# Run through Var model on every train set, put them in a list with a name\n",
    "def run_model(train_dict):\n",
    "    model_name = []\n",
    "    model_list = []\n",
    "    for key in train_dict.keys():\n",
    "        model_list.append(VAR(train_dict.get(key)))\n",
    "        model_name.append(key)\n",
    "    # print(model_list)\n",
    "    return model_name, model_list\n",
    "\n",
    "# Fit the model and put them in a list, use lag 10\n",
    "def fit_model(model_list):\n",
    "    results = [i.fit(10) for i in model_list]\n",
    "    return results\n"
   ]
  },
  {
   "cell_type": "code",
   "execution_count": 56,
   "metadata": {},
   "outputs": [
    {
     "name": "stderr",
     "output_type": "stream",
     "text": [
      "C:\\Users\\LinhTo\\miniconda3\\lib\\site-packages\\statsmodels\\tsa\\base\\tsa_model.py:471: ValueWarning: No frequency information was provided, so inferred frequency W-WED will be used.\n",
      "  self._init_dates(dates, freq)\n",
      "C:\\Users\\LinhTo\\miniconda3\\lib\\site-packages\\statsmodels\\tsa\\base\\tsa_model.py:471: ValueWarning: No frequency information was provided, so inferred frequency W-WED will be used.\n",
      "  self._init_dates(dates, freq)\n",
      "C:\\Users\\LinhTo\\miniconda3\\lib\\site-packages\\statsmodels\\tsa\\base\\tsa_model.py:471: ValueWarning: No frequency information was provided, so inferred frequency W-WED will be used.\n",
      "  self._init_dates(dates, freq)\n",
      "C:\\Users\\LinhTo\\miniconda3\\lib\\site-packages\\statsmodels\\tsa\\base\\tsa_model.py:471: ValueWarning: No frequency information was provided, so inferred frequency W-WED will be used.\n",
      "  self._init_dates(dates, freq)\n",
      "C:\\Users\\LinhTo\\miniconda3\\lib\\site-packages\\statsmodels\\tsa\\base\\tsa_model.py:471: ValueWarning: No frequency information was provided, so inferred frequency W-WED will be used.\n",
      "  self._init_dates(dates, freq)\n",
      "C:\\Users\\LinhTo\\miniconda3\\lib\\site-packages\\statsmodels\\tsa\\base\\tsa_model.py:471: ValueWarning: No frequency information was provided, so inferred frequency W-WED will be used.\n",
      "  self._init_dates(dates, freq)\n",
      "C:\\Users\\LinhTo\\miniconda3\\lib\\site-packages\\statsmodels\\tsa\\base\\tsa_model.py:471: ValueWarning: No frequency information was provided, so inferred frequency W-WED will be used.\n",
      "  self._init_dates(dates, freq)\n",
      "C:\\Users\\LinhTo\\miniconda3\\lib\\site-packages\\statsmodels\\tsa\\base\\tsa_model.py:471: ValueWarning: No frequency information was provided, so inferred frequency W-WED will be used.\n",
      "  self._init_dates(dates, freq)\n",
      "C:\\Users\\LinhTo\\miniconda3\\lib\\site-packages\\statsmodels\\tsa\\base\\tsa_model.py:471: ValueWarning: No frequency information was provided, so inferred frequency W-WED will be used.\n",
      "  self._init_dates(dates, freq)\n",
      "C:\\Users\\LinhTo\\miniconda3\\lib\\site-packages\\statsmodels\\tsa\\base\\tsa_model.py:471: ValueWarning: No frequency information was provided, so inferred frequency W-WED will be used.\n",
      "  self._init_dates(dates, freq)\n",
      "C:\\Users\\LinhTo\\miniconda3\\lib\\site-packages\\statsmodels\\tsa\\base\\tsa_model.py:471: ValueWarning: No frequency information was provided, so inferred frequency W-WED will be used.\n",
      "  self._init_dates(dates, freq)\n",
      "C:\\Users\\LinhTo\\miniconda3\\lib\\site-packages\\statsmodels\\tsa\\base\\tsa_model.py:471: ValueWarning: No frequency information was provided, so inferred frequency W-WED will be used.\n",
      "  self._init_dates(dates, freq)\n",
      "C:\\Users\\LinhTo\\miniconda3\\lib\\site-packages\\statsmodels\\tsa\\base\\tsa_model.py:471: ValueWarning: No frequency information was provided, so inferred frequency W-WED will be used.\n",
      "  self._init_dates(dates, freq)\n",
      "C:\\Users\\LinhTo\\miniconda3\\lib\\site-packages\\statsmodels\\tsa\\base\\tsa_model.py:471: ValueWarning: No frequency information was provided, so inferred frequency W-WED will be used.\n",
      "  self._init_dates(dates, freq)\n",
      "C:\\Users\\LinhTo\\miniconda3\\lib\\site-packages\\statsmodels\\tsa\\base\\tsa_model.py:471: ValueWarning: No frequency information was provided, so inferred frequency W-WED will be used.\n",
      "  self._init_dates(dates, freq)\n",
      "C:\\Users\\LinhTo\\miniconda3\\lib\\site-packages\\statsmodels\\tsa\\base\\tsa_model.py:471: ValueWarning: No frequency information was provided, so inferred frequency W-WED will be used.\n",
      "  self._init_dates(dates, freq)\n",
      "C:\\Users\\LinhTo\\miniconda3\\lib\\site-packages\\statsmodels\\tsa\\base\\tsa_model.py:471: ValueWarning: No frequency information was provided, so inferred frequency W-WED will be used.\n",
      "  self._init_dates(dates, freq)\n",
      "C:\\Users\\LinhTo\\miniconda3\\lib\\site-packages\\statsmodels\\tsa\\base\\tsa_model.py:471: ValueWarning: No frequency information was provided, so inferred frequency W-WED will be used.\n",
      "  self._init_dates(dates, freq)\n",
      "C:\\Users\\LinhTo\\miniconda3\\lib\\site-packages\\statsmodels\\tsa\\base\\tsa_model.py:471: ValueWarning: No frequency information was provided, so inferred frequency W-WED will be used.\n",
      "  self._init_dates(dates, freq)\n",
      "C:\\Users\\LinhTo\\miniconda3\\lib\\site-packages\\statsmodels\\tsa\\base\\tsa_model.py:471: ValueWarning: No frequency information was provided, so inferred frequency W-WED will be used.\n",
      "  self._init_dates(dates, freq)\n",
      "C:\\Users\\LinhTo\\miniconda3\\lib\\site-packages\\statsmodels\\tsa\\base\\tsa_model.py:471: ValueWarning: No frequency information was provided, so inferred frequency W-WED will be used.\n",
      "  self._init_dates(dates, freq)\n",
      "C:\\Users\\LinhTo\\miniconda3\\lib\\site-packages\\statsmodels\\tsa\\base\\tsa_model.py:471: ValueWarning: No frequency information was provided, so inferred frequency W-WED will be used.\n",
      "  self._init_dates(dates, freq)\n",
      "C:\\Users\\LinhTo\\miniconda3\\lib\\site-packages\\statsmodels\\tsa\\base\\tsa_model.py:471: ValueWarning: No frequency information was provided, so inferred frequency W-WED will be used.\n",
      "  self._init_dates(dates, freq)\n",
      "C:\\Users\\LinhTo\\miniconda3\\lib\\site-packages\\statsmodels\\tsa\\base\\tsa_model.py:471: ValueWarning: No frequency information was provided, so inferred frequency W-WED will be used.\n",
      "  self._init_dates(dates, freq)\n",
      "C:\\Users\\LinhTo\\miniconda3\\lib\\site-packages\\statsmodels\\tsa\\base\\tsa_model.py:471: ValueWarning: No frequency information was provided, so inferred frequency W-WED will be used.\n",
      "  self._init_dates(dates, freq)\n",
      "C:\\Users\\LinhTo\\miniconda3\\lib\\site-packages\\statsmodels\\tsa\\base\\tsa_model.py:471: ValueWarning: No frequency information was provided, so inferred frequency W-WED will be used.\n",
      "  self._init_dates(dates, freq)\n",
      "C:\\Users\\LinhTo\\miniconda3\\lib\\site-packages\\statsmodels\\tsa\\base\\tsa_model.py:471: ValueWarning: No frequency information was provided, so inferred frequency W-WED will be used.\n",
      "  self._init_dates(dates, freq)\n",
      "C:\\Users\\LinhTo\\miniconda3\\lib\\site-packages\\statsmodels\\tsa\\base\\tsa_model.py:471: ValueWarning: No frequency information was provided, so inferred frequency W-WED will be used.\n",
      "  self._init_dates(dates, freq)\n",
      "C:\\Users\\LinhTo\\miniconda3\\lib\\site-packages\\statsmodels\\tsa\\base\\tsa_model.py:471: ValueWarning: No frequency information was provided, so inferred frequency W-WED will be used.\n",
      "  self._init_dates(dates, freq)\n",
      "C:\\Users\\LinhTo\\miniconda3\\lib\\site-packages\\statsmodels\\tsa\\base\\tsa_model.py:471: ValueWarning: No frequency information was provided, so inferred frequency W-WED will be used.\n",
      "  self._init_dates(dates, freq)\n",
      "C:\\Users\\LinhTo\\miniconda3\\lib\\site-packages\\statsmodels\\tsa\\base\\tsa_model.py:471: ValueWarning: No frequency information was provided, so inferred frequency W-WED will be used.\n",
      "  self._init_dates(dates, freq)\n",
      "C:\\Users\\LinhTo\\miniconda3\\lib\\site-packages\\statsmodels\\tsa\\base\\tsa_model.py:471: ValueWarning: No frequency information was provided, so inferred frequency W-WED will be used.\n",
      "  self._init_dates(dates, freq)\n",
      "C:\\Users\\LinhTo\\miniconda3\\lib\\site-packages\\statsmodels\\tsa\\base\\tsa_model.py:471: ValueWarning: No frequency information was provided, so inferred frequency W-WED will be used.\n",
      "  self._init_dates(dates, freq)\n",
      "C:\\Users\\LinhTo\\miniconda3\\lib\\site-packages\\statsmodels\\tsa\\base\\tsa_model.py:471: ValueWarning: No frequency information was provided, so inferred frequency W-WED will be used.\n",
      "  self._init_dates(dates, freq)\n",
      "C:\\Users\\LinhTo\\miniconda3\\lib\\site-packages\\statsmodels\\tsa\\base\\tsa_model.py:471: ValueWarning: No frequency information was provided, so inferred frequency W-WED will be used.\n",
      "  self._init_dates(dates, freq)\n",
      "C:\\Users\\LinhTo\\miniconda3\\lib\\site-packages\\statsmodels\\tsa\\base\\tsa_model.py:471: ValueWarning: No frequency information was provided, so inferred frequency W-WED will be used.\n",
      "  self._init_dates(dates, freq)\n",
      "C:\\Users\\LinhTo\\miniconda3\\lib\\site-packages\\statsmodels\\tsa\\base\\tsa_model.py:471: ValueWarning: No frequency information was provided, so inferred frequency W-WED will be used.\n",
      "  self._init_dates(dates, freq)\n",
      "C:\\Users\\LinhTo\\miniconda3\\lib\\site-packages\\statsmodels\\tsa\\base\\tsa_model.py:471: ValueWarning: No frequency information was provided, so inferred frequency W-WED will be used.\n",
      "  self._init_dates(dates, freq)\n",
      "C:\\Users\\LinhTo\\miniconda3\\lib\\site-packages\\statsmodels\\tsa\\base\\tsa_model.py:471: ValueWarning: No frequency information was provided, so inferred frequency W-WED will be used.\n",
      "  self._init_dates(dates, freq)\n",
      "C:\\Users\\LinhTo\\miniconda3\\lib\\site-packages\\statsmodels\\tsa\\base\\tsa_model.py:471: ValueWarning: No frequency information was provided, so inferred frequency W-WED will be used.\n",
      "  self._init_dates(dates, freq)\n",
      "C:\\Users\\LinhTo\\miniconda3\\lib\\site-packages\\statsmodels\\tsa\\base\\tsa_model.py:471: ValueWarning: No frequency information was provided, so inferred frequency W-WED will be used.\n",
      "  self._init_dates(dates, freq)\n",
      "C:\\Users\\LinhTo\\miniconda3\\lib\\site-packages\\statsmodels\\tsa\\base\\tsa_model.py:471: ValueWarning: No frequency information was provided, so inferred frequency W-WED will be used.\n",
      "  self._init_dates(dates, freq)\n",
      "C:\\Users\\LinhTo\\miniconda3\\lib\\site-packages\\statsmodels\\tsa\\base\\tsa_model.py:471: ValueWarning: No frequency information was provided, so inferred frequency W-WED will be used.\n",
      "  self._init_dates(dates, freq)\n",
      "C:\\Users\\LinhTo\\miniconda3\\lib\\site-packages\\statsmodels\\tsa\\base\\tsa_model.py:471: ValueWarning: No frequency information was provided, so inferred frequency W-WED will be used.\n",
      "  self._init_dates(dates, freq)\n",
      "C:\\Users\\LinhTo\\miniconda3\\lib\\site-packages\\statsmodels\\tsa\\base\\tsa_model.py:471: ValueWarning: No frequency information was provided, so inferred frequency W-WED will be used.\n",
      "  self._init_dates(dates, freq)\n",
      "C:\\Users\\LinhTo\\miniconda3\\lib\\site-packages\\statsmodels\\tsa\\base\\tsa_model.py:471: ValueWarning: No frequency information was provided, so inferred frequency W-WED will be used.\n",
      "  self._init_dates(dates, freq)\n",
      "C:\\Users\\LinhTo\\miniconda3\\lib\\site-packages\\statsmodels\\tsa\\base\\tsa_model.py:471: ValueWarning: No frequency information was provided, so inferred frequency W-WED will be used.\n",
      "  self._init_dates(dates, freq)\n",
      "C:\\Users\\LinhTo\\miniconda3\\lib\\site-packages\\statsmodels\\tsa\\base\\tsa_model.py:471: ValueWarning: No frequency information was provided, so inferred frequency W-WED will be used.\n",
      "  self._init_dates(dates, freq)\n",
      "C:\\Users\\LinhTo\\miniconda3\\lib\\site-packages\\statsmodels\\tsa\\base\\tsa_model.py:471: ValueWarning: No frequency information was provided, so inferred frequency W-WED will be used.\n",
      "  self._init_dates(dates, freq)\n",
      "C:\\Users\\LinhTo\\miniconda3\\lib\\site-packages\\statsmodels\\tsa\\base\\tsa_model.py:471: ValueWarning: No frequency information was provided, so inferred frequency W-WED will be used.\n",
      "  self._init_dates(dates, freq)\n",
      "C:\\Users\\LinhTo\\miniconda3\\lib\\site-packages\\statsmodels\\tsa\\base\\tsa_model.py:471: ValueWarning: No frequency information was provided, so inferred frequency W-WED will be used.\n",
      "  self._init_dates(dates, freq)\n",
      "C:\\Users\\LinhTo\\miniconda3\\lib\\site-packages\\statsmodels\\tsa\\base\\tsa_model.py:471: ValueWarning: No frequency information was provided, so inferred frequency W-WED will be used.\n",
      "  self._init_dates(dates, freq)\n",
      "C:\\Users\\LinhTo\\miniconda3\\lib\\site-packages\\statsmodels\\tsa\\base\\tsa_model.py:471: ValueWarning: No frequency information was provided, so inferred frequency W-WED will be used.\n",
      "  self._init_dates(dates, freq)\n",
      "C:\\Users\\LinhTo\\miniconda3\\lib\\site-packages\\statsmodels\\tsa\\base\\tsa_model.py:471: ValueWarning: No frequency information was provided, so inferred frequency W-WED will be used.\n",
      "  self._init_dates(dates, freq)\n",
      "C:\\Users\\LinhTo\\miniconda3\\lib\\site-packages\\statsmodels\\tsa\\base\\tsa_model.py:471: ValueWarning: No frequency information was provided, so inferred frequency W-WED will be used.\n",
      "  self._init_dates(dates, freq)\n",
      "C:\\Users\\LinhTo\\miniconda3\\lib\\site-packages\\statsmodels\\tsa\\base\\tsa_model.py:471: ValueWarning: No frequency information was provided, so inferred frequency W-WED will be used.\n",
      "  self._init_dates(dates, freq)\n",
      "C:\\Users\\LinhTo\\miniconda3\\lib\\site-packages\\statsmodels\\tsa\\base\\tsa_model.py:471: ValueWarning: No frequency information was provided, so inferred frequency W-WED will be used.\n",
      "  self._init_dates(dates, freq)\n"
     ]
    }
   ],
   "source": [
    "model_name_etf, model_list_etf = run_model(train_etf_dict)\n",
    "model_name_institutional, model_list_institutional = run_model(train_institutional_dict)\n",
    "model_name_retail, model_list_retail = run_model(train_retail_dict)\n",
    "\n",
    "results_etf = fit_model(model_list_etf)\n",
    "results_institutional = fit_model(model_list_institutional)\n",
    "results_retail = fit_model(model_list_retail)"
   ]
  },
  {
   "cell_type": "markdown",
   "metadata": {},
   "source": [
    "### Get predictions"
   ]
  },
  {
   "cell_type": "code",
   "execution_count": 57,
   "metadata": {},
   "outputs": [],
   "source": [
    "# Calculate lagged values of the train dataset\n",
    "def lag(train_dict):\n",
    "    lag_values = []\n",
    "    for key in train_dict.keys():\n",
    "        lag_values.append(train_dict.get(key).values[-10:])\n",
    "    return lag_values\n",
    "\n",
    "import itertools \n",
    "# Calculate result forecast of each lagged values with the fitted models, with steps = 10\n",
    "def result_forecast(results, lag_values):\n",
    "    predicted_results = []\n",
    "    for (result, lag_value) in zip (results, lag_values):\n",
    "        predicted_results.append(result.forecast (y = lag_value, steps = 10))\n",
    "    return predicted_results\n",
    "\n",
    "# In the predicted_results, there will be a list with 19 elements, each element is an array with shape (10,4).\n",
    "# Take the 2nd column of that element, that is the predicted asset end\n",
    "# This predicted asset end will have be an array with shape (0,10)\n",
    "\n",
    "def get_predicted_assetend(predicted_results):\n",
    "    predicted_assetends = []\n",
    "    for predicted_result in predicted_results:\n",
    "        predicted_assetends.append(predicted_result[:,2])\n",
    "    return predicted_assetends"
   ]
  },
  {
   "cell_type": "code",
   "execution_count": 58,
   "metadata": {},
   "outputs": [],
   "source": [
    "lag_values_etf = lag(train_etf_dict)\n",
    "lag_values_institutional = lag(train_institutional_dict)\n",
    "lag_values_retail = lag(train_retail_dict)\n",
    "\n",
    "predicted_results_etf = result_forecast(results_etf, lag_values_etf)\n",
    "predicted_results_institutional = result_forecast(results_institutional, lag_values_institutional)\n",
    "predicted_results_retail = result_forecast(results_retail, lag_values_retail)\n",
    "\n",
    "predicted_assetends_etf = get_predicted_assetend(predicted_results_etf)\n",
    "predicted_assetends_institutional = get_predicted_assetend(predicted_results_institutional)\n",
    "predicted_assetends_retail = get_predicted_assetend(predicted_results_retail)"
   ]
  },
  {
   "cell_type": "markdown",
   "metadata": {},
   "source": [
    "### Evaluation"
   ]
  },
  {
   "cell_type": "code",
   "execution_count": 59,
   "metadata": {},
   "outputs": [],
   "source": [
    "# Evaluate the forecasts by calculating the RMSE of predicted assetends and actual assetends in the test dataset\n",
    "def get_actual_assetend(test_dict):\n",
    "    actual_assetends = []\n",
    "    for key in test_dict:\n",
    "        actual_assetends.append(test_dict.get(key).loc[:, 'AssetsEnd'].values)\n",
    "    return actual_assetends\n",
    "\n",
    "def get_evaluation(predicted_assetends, actual_assetends):\n",
    "    rmse = []\n",
    "    for predicted_assetend, actual_assetend in zip(predicted_assetends, actual_assetends):\n",
    "        rmse.append(np.mean((predicted_assetend - actual_assetend) ** 2) ** 0.5)\n",
    "    return rmse\n",
    "        "
   ]
  },
  {
   "cell_type": "code",
   "execution_count": 60,
   "metadata": {},
   "outputs": [],
   "source": [
    "actual_assetends_etf = get_actual_assetend(test_etf_dict)\n",
    "actual_assetends_institutional = get_actual_assetend(test_institutional_dict)\n",
    "actual_assetends_retail = get_actual_assetend(test_retail_dict)\n",
    "\n",
    "rmse_etf = get_evaluation(predicted_assetends_etf, actual_assetends_etf)\n",
    "rmse_institutional = get_evaluation(predicted_assetends_institutional, actual_assetends_institutional)\n",
    "rmse_retail = get_evaluation(predicted_assetends_retail, actual_assetends_retail)\n"
   ]
  },
  {
   "cell_type": "markdown",
   "metadata": {},
   "source": [
    "### RMSE table for each asset end"
   ]
  },
  {
   "cell_type": "code",
   "execution_count": 61,
   "metadata": {},
   "outputs": [
    {
     "data": {
      "text/html": [
       "<div>\n",
       "<style scoped>\n",
       "    .dataframe tbody tr th:only-of-type {\n",
       "        vertical-align: middle;\n",
       "    }\n",
       "\n",
       "    .dataframe tbody tr th {\n",
       "        vertical-align: top;\n",
       "    }\n",
       "\n",
       "    .dataframe thead th {\n",
       "        text-align: right;\n",
       "    }\n",
       "</style>\n",
       "<table border=\"1\" class=\"dataframe\">\n",
       "  <thead>\n",
       "    <tr style=\"text-align: right;\">\n",
       "      <th></th>\n",
       "      <th>Etf</th>\n",
       "      <th>Institutional</th>\n",
       "      <th>Retail</th>\n",
       "    </tr>\n",
       "  </thead>\n",
       "  <tbody>\n",
       "    <tr>\n",
       "      <th>model_Utilities</th>\n",
       "      <td>474.596794</td>\n",
       "      <td>520.492189</td>\n",
       "      <td>507.022275</td>\n",
       "    </tr>\n",
       "    <tr>\n",
       "      <th>model_Commodities/Materials</th>\n",
       "      <td>772.531578</td>\n",
       "      <td>780.869927</td>\n",
       "      <td>1518.367724</td>\n",
       "    </tr>\n",
       "    <tr>\n",
       "      <th>model_Consumer Goods</th>\n",
       "      <td>506.168203</td>\n",
       "      <td>506.168203</td>\n",
       "      <td>427.763661</td>\n",
       "    </tr>\n",
       "    <tr>\n",
       "      <th>model_Energy</th>\n",
       "      <td>2866.351007</td>\n",
       "      <td>3746.659685</td>\n",
       "      <td>407.730242</td>\n",
       "    </tr>\n",
       "    <tr>\n",
       "      <th>model_Financials</th>\n",
       "      <td>7563.592719</td>\n",
       "      <td>7901.087323</td>\n",
       "      <td>3679.640531</td>\n",
       "    </tr>\n",
       "    <tr>\n",
       "      <th>model_Health Care/Biotech</th>\n",
       "      <td>1237.765558</td>\n",
       "      <td>1507.716637</td>\n",
       "      <td>2148.870298</td>\n",
       "    </tr>\n",
       "    <tr>\n",
       "      <th>model_Industrials</th>\n",
       "      <td>1638.702082</td>\n",
       "      <td>1638.702082</td>\n",
       "      <td>7072.263693</td>\n",
       "    </tr>\n",
       "    <tr>\n",
       "      <th>model_Large Cap Blend</th>\n",
       "      <td>27548.340956</td>\n",
       "      <td>35955.874543</td>\n",
       "      <td>3166.253988</td>\n",
       "    </tr>\n",
       "    <tr>\n",
       "      <th>model_Large Cap Growth</th>\n",
       "      <td>6815.695258</td>\n",
       "      <td>5146.783731</td>\n",
       "      <td>25.207800</td>\n",
       "    </tr>\n",
       "    <tr>\n",
       "      <th>model_Telecom</th>\n",
       "      <td>331.452947</td>\n",
       "      <td>331.452947</td>\n",
       "      <td>958.989012</td>\n",
       "    </tr>\n",
       "    <tr>\n",
       "      <th>model_Mid Cap Blend</th>\n",
       "      <td>5192.488640</td>\n",
       "      <td>7499.513913</td>\n",
       "      <td>1233.744979</td>\n",
       "    </tr>\n",
       "    <tr>\n",
       "      <th>model_Technology</th>\n",
       "      <td>2559.466668</td>\n",
       "      <td>2606.477601</td>\n",
       "      <td>2566.833456</td>\n",
       "    </tr>\n",
       "    <tr>\n",
       "      <th>model_Small Cap Value</th>\n",
       "      <td>2450.465796</td>\n",
       "      <td>3882.756340</td>\n",
       "      <td>589.250247</td>\n",
       "    </tr>\n",
       "    <tr>\n",
       "      <th>model_Small Cap Growth</th>\n",
       "      <td>1094.866205</td>\n",
       "      <td>1485.058198</td>\n",
       "      <td>849.900204</td>\n",
       "    </tr>\n",
       "    <tr>\n",
       "      <th>model_Large Cap Value</th>\n",
       "      <td>5216.189827</td>\n",
       "      <td>9592.107011</td>\n",
       "      <td>477.810723</td>\n",
       "    </tr>\n",
       "    <tr>\n",
       "      <th>model_Real Estate</th>\n",
       "      <td>1933.244611</td>\n",
       "      <td>2003.021926</td>\n",
       "      <td>732.862670</td>\n",
       "    </tr>\n",
       "    <tr>\n",
       "      <th>model_Mid Cap Value</th>\n",
       "      <td>1316.362186</td>\n",
       "      <td>2836.746257</td>\n",
       "      <td>38.954862</td>\n",
       "    </tr>\n",
       "    <tr>\n",
       "      <th>model_Mid Cap Growth</th>\n",
       "      <td>406.392398</td>\n",
       "      <td>489.152497</td>\n",
       "      <td>56.961566</td>\n",
       "    </tr>\n",
       "    <tr>\n",
       "      <th>model_Small Cap Blend</th>\n",
       "      <td>9228.694270</td>\n",
       "      <td>12337.497269</td>\n",
       "      <td>31.062307</td>\n",
       "    </tr>\n",
       "  </tbody>\n",
       "</table>\n",
       "</div>"
      ],
      "text/plain": [
       "                                      Etf  Institutional       Retail\n",
       "model_Utilities                474.596794     520.492189   507.022275\n",
       "model_Commodities/Materials    772.531578     780.869927  1518.367724\n",
       "model_Consumer Goods           506.168203     506.168203   427.763661\n",
       "model_Energy                  2866.351007    3746.659685   407.730242\n",
       "model_Financials              7563.592719    7901.087323  3679.640531\n",
       "model_Health Care/Biotech     1237.765558    1507.716637  2148.870298\n",
       "model_Industrials             1638.702082    1638.702082  7072.263693\n",
       "model_Large Cap Blend        27548.340956   35955.874543  3166.253988\n",
       "model_Large Cap Growth        6815.695258    5146.783731    25.207800\n",
       "model_Telecom                  331.452947     331.452947   958.989012\n",
       "model_Mid Cap Blend           5192.488640    7499.513913  1233.744979\n",
       "model_Technology              2559.466668    2606.477601  2566.833456\n",
       "model_Small Cap Value         2450.465796    3882.756340   589.250247\n",
       "model_Small Cap Growth        1094.866205    1485.058198   849.900204\n",
       "model_Large Cap Value         5216.189827    9592.107011   477.810723\n",
       "model_Real Estate             1933.244611    2003.021926   732.862670\n",
       "model_Mid Cap Value           1316.362186    2836.746257    38.954862\n",
       "model_Mid Cap Growth           406.392398     489.152497    56.961566\n",
       "model_Small Cap Blend         9228.694270   12337.497269    31.062307"
      ]
     },
     "execution_count": 61,
     "metadata": {},
     "output_type": "execute_result"
    }
   ],
   "source": [
    "data = {'Etf': rmse_etf, 'Institutional': rmse_institutional, 'Retail' : rmse_retail}\n",
    "rmse_table = pd.DataFrame(data = data, index = model_name_etf)\n",
    "rmse_table"
   ]
  },
  {
   "cell_type": "code",
   "execution_count": 62,
   "metadata": {},
   "outputs": [],
   "source": [
    "import matplotlib as plt\n",
    "import seaborn as sns"
   ]
  },
  {
   "cell_type": "code",
   "execution_count": 63,
   "metadata": {},
   "outputs": [
    {
     "data": {
      "text/plain": [
       "Text(0.5, 1.0, 'VAR model with assetend prediction on each assetclass')"
      ]
     },
     "execution_count": 63,
     "metadata": {},
     "output_type": "execute_result"
    },
    {
     "data": {
      "image/png": "[encoded data removed]",
      "text/plain": [
       "<Figure size 432x288 with 2 Axes>"
      ]
     },
     "metadata": {
      "needs_background": "light"
     },
     "output_type": "display_data"
    }
   ],
   "source": [
    "# rmse_table = sns.load_dataset(\"rmse_table\")\n",
    "# rmse_table = rmse_table.pivot(\"month\", \"year\", \"passengers\")\n",
    "\n",
    "cmap = sns.cm.rocket_r\n",
    "ax = sns.heatmap(rmse_table,cmap = cmap)\n",
    "sns.set(rc = {'figure.figsize':(10,8)})\n",
    "ax.set_title('VAR model with assetend prediction on each assetclass', fontsize =20)"
   ]
  }
 ],
 "metadata": {
  "interpreter": {
   "hash": "b20e4dd35a95a1f0a413df6f9e0809e8249ac6991d40e3f9a5d7e657ecdd8861"
  },
  "kernelspec": {
   "display_name": "Python 3.9.5 ('base')",
   "language": "python",
   "name": "python3"
  },
  "language_info": {
   "codemirror_mode": {
    "name": "ipython",
    "version": 3
   },
   "file_extension": ".py",
   "mimetype": "text/x-python",
   "name": "python",
   "nbconvert_exporter": "python",
   "pygments_lexer": "ipython3",
   "version": "3.9.5"
  },
  "orig_nbformat": 4
 },
 "nbformat": 4,
 "nbformat_minor": 2
}
